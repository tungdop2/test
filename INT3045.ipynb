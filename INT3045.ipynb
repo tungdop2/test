{
 "cells": [
  {
   "cell_type": "code",
   "execution_count": 1,
   "id": "2e52180b",
   "metadata": {
    "_cell_guid": "b1076dfc-b9ad-4769-8c92-a6c4dae69d19",
    "_uuid": "8f2839f25d086af736a60e9eeb907d3b93b6e0e5",
    "execution": {
     "iopub.execute_input": "2022-12-10T10:35:07.535192Z",
     "iopub.status.busy": "2022-12-10T10:35:07.534747Z",
     "iopub.status.idle": "2022-12-10T10:35:07.551531Z",
     "shell.execute_reply": "2022-12-10T10:35:07.550628Z"
    },
    "papermill": {
     "duration": 0.027703,
     "end_time": "2022-12-10T10:35:07.554511",
     "exception": false,
     "start_time": "2022-12-10T10:35:07.526808",
     "status": "completed"
    },
    "tags": []
   },
   "outputs": [
    {
     "name": "stdout",
     "output_type": "stream",
     "text": [
      "/kaggle/input/int3405-sentiment-analysis-problem/test.csv\n",
      "/kaggle/input/int3405-sentiment-analysis-problem/full_train.csv\n",
      "/kaggle/input/foody-crawl/test_raw.csv\n",
      "/kaggle/input/foody-crawl/test_raw_search.csv\n",
      "/kaggle/input/foody-crawl/train_raw.csv\n",
      "/kaggle/input/foody-crawl/data_train_crawl.csv\n",
      "/kaggle/input/foody-crawl/mix_raw.csv\n",
      "/kaggle/input/foody-crawl/data_mix_crawl.csv\n"
     ]
    }
   ],
   "source": [
    "import os\n",
    "for dirname, _, filenames in os.walk('/kaggle/input'):\n",
    "    for filename in filenames:\n",
    "        print(os.path.join(dirname, filename))"
   ]
  },
  {
   "cell_type": "code",
   "execution_count": 2,
   "id": "09de8690",
   "metadata": {
    "execution": {
     "iopub.execute_input": "2022-12-10T10:35:07.568202Z",
     "iopub.status.busy": "2022-12-10T10:35:07.567393Z",
     "iopub.status.idle": "2022-12-10T10:35:38.723416Z",
     "shell.execute_reply": "2022-12-10T10:35:38.722426Z"
    },
    "papermill": {
     "duration": 31.165078,
     "end_time": "2022-12-10T10:35:38.725959",
     "exception": false,
     "start_time": "2022-12-10T10:35:07.560881",
     "status": "completed"
    },
    "tags": []
   },
   "outputs": [
    {
     "name": "stdout",
     "output_type": "stream",
     "text": [
      "Collecting underthesea\r\n",
      "  Downloading underthesea-1.3.5-py3-none-any.whl (11.0 MB)\r\n",
      "\u001b[2K     \u001b[90m━━━━━━━━━━━━━━━━━━━━━━━━━━━━━━━━━━━━━━━━\u001b[0m \u001b[32m11.0/11.0 MB\u001b[0m \u001b[31m10.5 MB/s\u001b[0m eta \u001b[36m0:00:00\u001b[0m\r\n",
      "\u001b[?25hRequirement already satisfied: tqdm in /opt/conda/lib/python3.7/site-packages (from underthesea) (4.64.0)\r\n",
      "Collecting python-crfsuite>=0.9.6\r\n",
      "  Downloading python_crfsuite-0.9.8-cp37-cp37m-manylinux_2_17_x86_64.manylinux2014_x86_64.whl (965 kB)\r\n",
      "\u001b[2K     \u001b[90m━━━━━━━━━━━━━━━━━━━━━━━━━━━━━━━━━━━━━━\u001b[0m \u001b[32m965.4/965.4 kB\u001b[0m \u001b[31m44.6 MB/s\u001b[0m eta \u001b[36m0:00:00\u001b[0m\r\n",
      "\u001b[?25hRequirement already satisfied: nltk in /opt/conda/lib/python3.7/site-packages (from underthesea) (3.7)\r\n",
      "Requirement already satisfied: PyYAML in /opt/conda/lib/python3.7/site-packages (from underthesea) (6.0)\r\n",
      "Requirement already satisfied: requests in /opt/conda/lib/python3.7/site-packages (from underthesea) (2.28.1)\r\n",
      "Requirement already satisfied: unidecode in /opt/conda/lib/python3.7/site-packages (from underthesea) (1.3.4)\r\n",
      "Requirement already satisfied: joblib in /opt/conda/lib/python3.7/site-packages (from underthesea) (1.0.1)\r\n",
      "Requirement already satisfied: scikit-learn in /opt/conda/lib/python3.7/site-packages (from underthesea) (1.0.2)\r\n",
      "Requirement already satisfied: Click>=6.0 in /opt/conda/lib/python3.7/site-packages (from underthesea) (8.0.4)\r\n",
      "Collecting underthesea-core==0.0.5a2\r\n",
      "  Downloading underthesea_core-0.0.5_alpha.2-cp37-cp37m-manylinux2010_x86_64.whl (591 kB)\r\n",
      "\u001b[2K     \u001b[90m━━━━━━━━━━━━━━━━━━━━━━━━━━━━━━━━━━━━━━\u001b[0m \u001b[32m591.7/591.7 kB\u001b[0m \u001b[31m35.5 MB/s\u001b[0m eta \u001b[36m0:00:00\u001b[0m\r\n",
      "\u001b[?25hRequirement already satisfied: importlib-metadata in /opt/conda/lib/python3.7/site-packages (from Click>=6.0->underthesea) (4.13.0)\r\n",
      "Requirement already satisfied: regex>=2021.8.3 in /opt/conda/lib/python3.7/site-packages (from nltk->underthesea) (2021.11.10)\r\n",
      "Requirement already satisfied: urllib3<1.27,>=1.21.1 in /opt/conda/lib/python3.7/site-packages (from requests->underthesea) (1.26.12)\r\n",
      "Requirement already satisfied: certifi>=2017.4.17 in /opt/conda/lib/python3.7/site-packages (from requests->underthesea) (2022.9.24)\r\n",
      "Requirement already satisfied: charset-normalizer<3,>=2 in /opt/conda/lib/python3.7/site-packages (from requests->underthesea) (2.1.0)\r\n",
      "Requirement already satisfied: idna<4,>=2.5 in /opt/conda/lib/python3.7/site-packages (from requests->underthesea) (3.3)\r\n",
      "Requirement already satisfied: scipy>=1.1.0 in /opt/conda/lib/python3.7/site-packages (from scikit-learn->underthesea) (1.7.3)\r\n",
      "Requirement already satisfied: numpy>=1.14.6 in /opt/conda/lib/python3.7/site-packages (from scikit-learn->underthesea) (1.21.6)\r\n",
      "Requirement already satisfied: threadpoolctl>=2.0.0 in /opt/conda/lib/python3.7/site-packages (from scikit-learn->underthesea) (3.1.0)\r\n",
      "Requirement already satisfied: zipp>=0.5 in /opt/conda/lib/python3.7/site-packages (from importlib-metadata->Click>=6.0->underthesea) (3.8.0)\r\n",
      "Requirement already satisfied: typing-extensions>=3.6.4 in /opt/conda/lib/python3.7/site-packages (from importlib-metadata->Click>=6.0->underthesea) (4.1.1)\r\n",
      "Installing collected packages: underthesea-core, python-crfsuite, underthesea\r\n",
      "Successfully installed python-crfsuite-0.9.8 underthesea-1.3.5 underthesea-core-0.0.5a2\r\n",
      "\u001b[33mWARNING: Running pip as the 'root' user can result in broken permissions and conflicting behaviour with the system package manager. It is recommended to use a virtual environment instead: https://pip.pypa.io/warnings/venv\u001b[0m\u001b[33m\r\n",
      "\u001b[0mRequirement already satisfied: transformers in /opt/conda/lib/python3.7/site-packages (4.20.1)\r\n",
      "Requirement already satisfied: filelock in /opt/conda/lib/python3.7/site-packages (from transformers) (3.7.1)\r\n",
      "Requirement already satisfied: packaging>=20.0 in /opt/conda/lib/python3.7/site-packages (from transformers) (21.3)\r\n",
      "Requirement already satisfied: tokenizers!=0.11.3,<0.13,>=0.11.1 in /opt/conda/lib/python3.7/site-packages (from transformers) (0.12.1)\r\n",
      "Requirement already satisfied: tqdm>=4.27 in /opt/conda/lib/python3.7/site-packages (from transformers) (4.64.0)\r\n",
      "Requirement already satisfied: importlib-metadata in /opt/conda/lib/python3.7/site-packages (from transformers) (4.13.0)\r\n",
      "Requirement already satisfied: regex!=2019.12.17 in /opt/conda/lib/python3.7/site-packages (from transformers) (2021.11.10)\r\n",
      "Requirement already satisfied: pyyaml>=5.1 in /opt/conda/lib/python3.7/site-packages (from transformers) (6.0)\r\n",
      "Requirement already satisfied: huggingface-hub<1.0,>=0.1.0 in /opt/conda/lib/python3.7/site-packages (from transformers) (0.10.1)\r\n",
      "Requirement already satisfied: numpy>=1.17 in /opt/conda/lib/python3.7/site-packages (from transformers) (1.21.6)\r\n",
      "Requirement already satisfied: requests in /opt/conda/lib/python3.7/site-packages (from transformers) (2.28.1)\r\n",
      "Requirement already satisfied: typing-extensions>=3.7.4.3 in /opt/conda/lib/python3.7/site-packages (from huggingface-hub<1.0,>=0.1.0->transformers) (4.1.1)\r\n",
      "Requirement already satisfied: pyparsing!=3.0.5,>=2.0.2 in /opt/conda/lib/python3.7/site-packages (from packaging>=20.0->transformers) (3.0.9)\r\n",
      "Requirement already satisfied: zipp>=0.5 in /opt/conda/lib/python3.7/site-packages (from importlib-metadata->transformers) (3.8.0)\r\n",
      "Requirement already satisfied: urllib3<1.27,>=1.21.1 in /opt/conda/lib/python3.7/site-packages (from requests->transformers) (1.26.12)\r\n",
      "Requirement already satisfied: charset-normalizer<3,>=2 in /opt/conda/lib/python3.7/site-packages (from requests->transformers) (2.1.0)\r\n",
      "Requirement already satisfied: certifi>=2017.4.17 in /opt/conda/lib/python3.7/site-packages (from requests->transformers) (2022.9.24)\r\n",
      "Requirement already satisfied: idna<4,>=2.5 in /opt/conda/lib/python3.7/site-packages (from requests->transformers) (3.3)\r\n",
      "\u001b[33mWARNING: Running pip as the 'root' user can result in broken permissions and conflicting behaviour with the system package manager. It is recommended to use a virtual environment instead: https://pip.pypa.io/warnings/venv\u001b[0m\u001b[33m\r\n",
      "\u001b[0m"
     ]
    }
   ],
   "source": [
    "import torch\n",
    "import numpy as np\n",
    "import pandas as pd\n",
    "import seaborn as sns\n",
    "import matplotlib.pyplot as plt\n",
    "from tqdm import tqdm\n",
    "\n",
    "!pip install underthesea\n",
    "from underthesea import word_tokenize\n",
    "\n",
    "import torch.nn as nn\n",
    "from torch.optim import AdamW\n",
    "from torch.utils.data import Dataset, DataLoader\n",
    "\n",
    "!pip install transformers\n",
    "from transformers import get_linear_schedule_with_warmup, AutoTokenizer, AutoModel, logging\n",
    "\n",
    "import warnings\n",
    "warnings.filterwarnings(\"ignore\")\n",
    "\n",
    "logging.set_verbosity_error()"
   ]
  },
  {
   "cell_type": "code",
   "execution_count": 3,
   "id": "74e8ad4d",
   "metadata": {
    "execution": {
     "iopub.execute_input": "2022-12-10T10:35:38.745005Z",
     "iopub.status.busy": "2022-12-10T10:35:38.744508Z",
     "iopub.status.idle": "2022-12-10T10:35:38.801543Z",
     "shell.execute_reply": "2022-12-10T10:35:38.800892Z"
    },
    "papermill": {
     "duration": 0.068538,
     "end_time": "2022-12-10T10:35:38.803510",
     "exception": false,
     "start_time": "2022-12-10T10:35:38.734972",
     "status": "completed"
    },
    "tags": []
   },
   "outputs": [],
   "source": [
    "# For Reproducibility\n",
    "def seed_everything(seed_value):\n",
    "    np.random.seed(seed_value)\n",
    "    torch.manual_seed(seed_value)\n",
    "    \n",
    "    if torch.cuda.is_available(): \n",
    "        torch.cuda.manual_seed(seed_value)\n",
    "        torch.cuda.manual_seed_all(seed_value)\n",
    "        torch.backends.cudnn.deterministic = True\n",
    "        torch.backends.cudnn.benchmark = True\n",
    "\n",
    "seed_everything(2120)"
   ]
  },
  {
   "cell_type": "code",
   "execution_count": 4,
   "id": "90d3e163",
   "metadata": {
    "execution": {
     "iopub.execute_input": "2022-12-10T10:35:38.821596Z",
     "iopub.status.busy": "2022-12-10T10:35:38.821314Z",
     "iopub.status.idle": "2022-12-10T10:35:38.831526Z",
     "shell.execute_reply": "2022-12-10T10:35:38.830703Z"
    },
    "papermill": {
     "duration": 0.021394,
     "end_time": "2022-12-10T10:35:38.833498",
     "exception": false,
     "start_time": "2022-12-10T10:35:38.812104",
     "status": "completed"
    },
    "tags": []
   },
   "outputs": [
    {
     "data": {
      "text/plain": [
       "device(type='cuda')"
      ]
     },
     "execution_count": 4,
     "metadata": {},
     "output_type": "execute_result"
    }
   ],
   "source": [
    "device = torch.device('cuda' if torch.cuda.is_available() else 'cpu')\n",
    "device"
   ]
  },
  {
   "cell_type": "code",
   "execution_count": 5,
   "id": "e1753b5b",
   "metadata": {
    "execution": {
     "iopub.execute_input": "2022-12-10T10:35:38.851315Z",
     "iopub.status.busy": "2022-12-10T10:35:38.851046Z",
     "iopub.status.idle": "2022-12-10T10:35:39.848373Z",
     "shell.execute_reply": "2022-12-10T10:35:39.847390Z"
    },
    "papermill": {
     "duration": 1.009168,
     "end_time": "2022-12-10T10:35:39.851047",
     "exception": false,
     "start_time": "2022-12-10T10:35:38.841879",
     "status": "completed"
    },
    "tags": []
   },
   "outputs": [],
   "source": [
    "train_df = pd.read_csv('/kaggle/input/foody-crawl/data_mix_crawl.csv')\n",
    "test_df = pd.read_csv('/kaggle/input/foody-crawl/test_raw_search.csv')"
   ]
  },
  {
   "cell_type": "code",
   "execution_count": 6,
   "id": "cc40c849",
   "metadata": {
    "execution": {
     "iopub.execute_input": "2022-12-10T10:35:39.871151Z",
     "iopub.status.busy": "2022-12-10T10:35:39.870840Z",
     "iopub.status.idle": "2022-12-10T10:35:41.126228Z",
     "shell.execute_reply": "2022-12-10T10:35:41.125261Z"
    },
    "papermill": {
     "duration": 1.267238,
     "end_time": "2022-12-10T10:35:41.128502",
     "exception": false,
     "start_time": "2022-12-10T10:35:39.861264",
     "status": "completed"
    },
    "tags": []
   },
   "outputs": [],
   "source": [
    "import re\n",
    "\n",
    "emoji_pattern = re.compile(\"[\"\n",
    "        u\"\\U0001F600-\\U0001F64F\"  # emoticons\n",
    "        u\"\\U0001F300-\\U0001F5FF\"  # symbols & pictographs\n",
    "        u\"\\U0001F680-\\U0001F6FF\"  # transport & map symbols\n",
    "        u\"\\U0001F1E0-\\U0001F1FF\"  # flags (iOS)\n",
    "        u\"\\U00002702-\\U000027B0\"\n",
    "        u\"\\U000024C2-\\U0001F251\"\n",
    "        u\"\\U0001f926-\\U0001f937\"\n",
    "        u'\\U00010000-\\U0010ffff'\n",
    "        u\"\\u200d\"\n",
    "        u\"\\u2640-\\u2642\"\n",
    "        u\"\\u2600-\\u2B55\"\n",
    "        u\"\\u23cf\"\n",
    "        u\"\\u23e9\"\n",
    "        u\"\\u231a\"\n",
    "        u\"\\u3030\"\n",
    "        u\"\\ufe0f\"\n",
    "    \"]+\", flags=re.UNICODE)\n",
    "def remove_emoji(text):\n",
    "    return emoji_pattern.sub(r' ', text)\n",
    "\n",
    "def remove_punctuations(text):\n",
    "    return re.sub(r'[^\\w\\s]', '', text)\n",
    "\n",
    "ICONS = [':)))))', ':))))', ':)))', ':))', ':)', ':D', ':v' \\\n",
    "    ':(((((', ':((((', ':(((', ':((', ':(' \\\n",
    "        '(y)', ':\">', ':\\'(', ':|', ':-)' \n",
    "]\n",
    "def remove_icons(text):\n",
    "    for icon in ICONS:\n",
    "        text = text.replace(icon, ' ')\n",
    "    return text\n",
    "\n",
    "\n",
    "def preprocess(text):\n",
    "    if text == '':\n",
    "        return ''\n",
    "    text = text.lower().strip().replace('\\n', ' ')\n",
    "    text = remove_emoji(text)\n",
    "    text = remove_punctuations(text)\n",
    "    text = remove_icons(text)\n",
    "    return text\n",
    "\n",
    "\n",
    "train_df.dropna(inplace=True)\n",
    "train_df.fillna('', inplace=True)\n",
    "train_df['Comment'] = train_df['Comment'].apply(preprocess)\n",
    "test_df.fillna('', inplace=True)\n",
    "test_df['Comment'] = test_df['Comment'].apply(preprocess)"
   ]
  },
  {
   "cell_type": "code",
   "execution_count": 7,
   "id": "fc48197a",
   "metadata": {
    "execution": {
     "iopub.execute_input": "2022-12-10T10:35:41.148270Z",
     "iopub.status.busy": "2022-12-10T10:35:41.146773Z",
     "iopub.status.idle": "2022-12-10T10:35:41.164706Z",
     "shell.execute_reply": "2022-12-10T10:35:41.163716Z"
    },
    "papermill": {
     "duration": 0.029489,
     "end_time": "2022-12-10T10:35:41.166917",
     "exception": false,
     "start_time": "2022-12-10T10:35:41.137428",
     "status": "completed"
    },
    "tags": []
   },
   "outputs": [
    {
     "data": {
      "text/html": [
       "<div>\n",
       "<style scoped>\n",
       "    .dataframe tbody tr th:only-of-type {\n",
       "        vertical-align: middle;\n",
       "    }\n",
       "\n",
       "    .dataframe tbody tr th {\n",
       "        vertical-align: top;\n",
       "    }\n",
       "\n",
       "    .dataframe thead th {\n",
       "        text-align: right;\n",
       "    }\n",
       "</style>\n",
       "<table border=\"1\" class=\"dataframe\">\n",
       "  <thead>\n",
       "    <tr style=\"text-align: right;\">\n",
       "      <th></th>\n",
       "      <th>RevId</th>\n",
       "      <th>UserId</th>\n",
       "      <th>Comment</th>\n",
       "      <th>image_urls</th>\n",
       "      <th>Rating</th>\n",
       "    </tr>\n",
       "  </thead>\n",
       "  <tbody>\n",
       "    <tr>\n",
       "      <th>28524</th>\n",
       "      <td>3435198</td>\n",
       "      <td>587449</td>\n",
       "      <td>theo mình chân gà ở đây ăn cũng được điểm cộng...</td>\n",
       "      <td>['/ha-noi/hashtag/changaxaot-224729\"}],\"Pictur...</td>\n",
       "      <td>6.4</td>\n",
       "    </tr>\n",
       "    <tr>\n",
       "      <th>14343</th>\n",
       "      <td>13952309</td>\n",
       "      <td>25468812</td>\n",
       "      <td>chả hiểu sao mng chê chứ mình ăn ở đây 5 năm r...</td>\n",
       "      <td>[]</td>\n",
       "      <td>5.0</td>\n",
       "    </tr>\n",
       "    <tr>\n",
       "      <th>13056</th>\n",
       "      <td>4416960</td>\n",
       "      <td>593185</td>\n",
       "      <td>ốc béo sạch ngon  có thêm tí riêu cua chắc bes...</td>\n",
       "      <td>['https://images.foody.vn/res/g101/1004261/s80...</td>\n",
       "      <td>8.6</td>\n",
       "    </tr>\n",
       "    <tr>\n",
       "      <th>10807</th>\n",
       "      <td>3115848</td>\n",
       "      <td>9536443</td>\n",
       "      <td>mình rất không hài lòng khi gọi đồ ship về thì...</td>\n",
       "      <td>[]</td>\n",
       "      <td>4.4</td>\n",
       "    </tr>\n",
       "    <tr>\n",
       "      <th>22304</th>\n",
       "      <td>3050134</td>\n",
       "      <td>1838944</td>\n",
       "      <td>định ăn thử xem có ok k nên 2 đứa chỉ gọi sươn...</td>\n",
       "      <td>['https://images.foody.vn/res/g14/134242/s800/...</td>\n",
       "      <td>7.4</td>\n",
       "    </tr>\n",
       "  </tbody>\n",
       "</table>\n",
       "</div>"
      ],
      "text/plain": [
       "          RevId    UserId                                            Comment  \\\n",
       "28524   3435198    587449  theo mình chân gà ở đây ăn cũng được điểm cộng...   \n",
       "14343  13952309  25468812  chả hiểu sao mng chê chứ mình ăn ở đây 5 năm r...   \n",
       "13056   4416960    593185  ốc béo sạch ngon  có thêm tí riêu cua chắc bes...   \n",
       "10807   3115848   9536443  mình rất không hài lòng khi gọi đồ ship về thì...   \n",
       "22304   3050134   1838944  định ăn thử xem có ok k nên 2 đứa chỉ gọi sươn...   \n",
       "\n",
       "                                              image_urls  Rating  \n",
       "28524  ['/ha-noi/hashtag/changaxaot-224729\"}],\"Pictur...     6.4  \n",
       "14343                                                 []     5.0  \n",
       "13056  ['https://images.foody.vn/res/g101/1004261/s80...     8.6  \n",
       "10807                                                 []     4.4  \n",
       "22304  ['https://images.foody.vn/res/g14/134242/s800/...     7.4  "
      ]
     },
     "execution_count": 7,
     "metadata": {},
     "output_type": "execute_result"
    }
   ],
   "source": [
    "train_df.sample(5)"
   ]
  },
  {
   "cell_type": "code",
   "execution_count": 8,
   "id": "28b48748",
   "metadata": {
    "execution": {
     "iopub.execute_input": "2022-12-10T10:35:41.185297Z",
     "iopub.status.busy": "2022-12-10T10:35:41.185030Z",
     "iopub.status.idle": "2022-12-10T10:35:41.196728Z",
     "shell.execute_reply": "2022-12-10T10:35:41.195671Z"
    },
    "papermill": {
     "duration": 0.023228,
     "end_time": "2022-12-10T10:35:41.198882",
     "exception": false,
     "start_time": "2022-12-10T10:35:41.175654",
     "status": "completed"
    },
    "tags": []
   },
   "outputs": [
    {
     "data": {
      "text/html": [
       "<div>\n",
       "<style scoped>\n",
       "    .dataframe tbody tr th:only-of-type {\n",
       "        vertical-align: middle;\n",
       "    }\n",
       "\n",
       "    .dataframe tbody tr th {\n",
       "        vertical-align: top;\n",
       "    }\n",
       "\n",
       "    .dataframe thead th {\n",
       "        text-align: right;\n",
       "    }\n",
       "</style>\n",
       "<table border=\"1\" class=\"dataframe\">\n",
       "  <thead>\n",
       "    <tr style=\"text-align: right;\">\n",
       "      <th></th>\n",
       "      <th>Unnamed: 0</th>\n",
       "      <th>RevId</th>\n",
       "      <th>UserId</th>\n",
       "      <th>Comment</th>\n",
       "      <th>image_urls</th>\n",
       "      <th>Rating</th>\n",
       "    </tr>\n",
       "  </thead>\n",
       "  <tbody>\n",
       "    <tr>\n",
       "      <th>3644</th>\n",
       "      <td>3644</td>\n",
       "      <td>2034166</td>\n",
       "      <td>8755271</td>\n",
       "      <td>cháo ngon và đầy đặn phết khi có đầy đủ sườn s...</td>\n",
       "      <td>['https://images.foody.vn/res/g17/163349/s800/...</td>\n",
       "      <td>7.4</td>\n",
       "    </tr>\n",
       "    <tr>\n",
       "      <th>618</th>\n",
       "      <td>618</td>\n",
       "      <td>5998847</td>\n",
       "      <td>914390</td>\n",
       "      <td>cơm ngon nêm nếm vừa miệng siêu đầy đặn bắt mắ...</td>\n",
       "      <td>['https://images.foody.vn/res/g97/961921/s800/...</td>\n",
       "      <td>9.6</td>\n",
       "    </tr>\n",
       "    <tr>\n",
       "      <th>268</th>\n",
       "      <td>268</td>\n",
       "      <td>9348347</td>\n",
       "      <td>18101220</td>\n",
       "      <td>1010 tuyệt không có gì để chê vừa healthy lại ...</td>\n",
       "      <td>['https://images.foody.vn/res/g104/1033903/s80...</td>\n",
       "      <td>10.0</td>\n",
       "    </tr>\n",
       "    <tr>\n",
       "      <th>2036</th>\n",
       "      <td>2036</td>\n",
       "      <td>3459501</td>\n",
       "      <td>15831180</td>\n",
       "      <td>trong các quán bún chả thích mình thấy quán bú...</td>\n",
       "      <td>['https://images.foody.vn/res/g94/935781/s800/...</td>\n",
       "      <td>9.6</td>\n",
       "    </tr>\n",
       "    <tr>\n",
       "      <th>2849</th>\n",
       "      <td>2849</td>\n",
       "      <td>3450552</td>\n",
       "      <td>13821273</td>\n",
       "      <td>từ sài gìn ra hà nội ăn bún đậu lần t2 nhưng t...</td>\n",
       "      <td>['https://images.foody.vn/res/g95/940978/s800/...</td>\n",
       "      <td>7.6</td>\n",
       "    </tr>\n",
       "  </tbody>\n",
       "</table>\n",
       "</div>"
      ],
      "text/plain": [
       "      Unnamed: 0    RevId    UserId  \\\n",
       "3644        3644  2034166   8755271   \n",
       "618          618  5998847    914390   \n",
       "268          268  9348347  18101220   \n",
       "2036        2036  3459501  15831180   \n",
       "2849        2849  3450552  13821273   \n",
       "\n",
       "                                                Comment  \\\n",
       "3644  cháo ngon và đầy đặn phết khi có đầy đủ sườn s...   \n",
       "618   cơm ngon nêm nếm vừa miệng siêu đầy đặn bắt mắ...   \n",
       "268   1010 tuyệt không có gì để chê vừa healthy lại ...   \n",
       "2036  trong các quán bún chả thích mình thấy quán bú...   \n",
       "2849  từ sài gìn ra hà nội ăn bún đậu lần t2 nhưng t...   \n",
       "\n",
       "                                             image_urls  Rating  \n",
       "3644  ['https://images.foody.vn/res/g17/163349/s800/...     7.4  \n",
       "618   ['https://images.foody.vn/res/g97/961921/s800/...     9.6  \n",
       "268   ['https://images.foody.vn/res/g104/1033903/s80...    10.0  \n",
       "2036  ['https://images.foody.vn/res/g94/935781/s800/...     9.6  \n",
       "2849  ['https://images.foody.vn/res/g95/940978/s800/...     7.6  "
      ]
     },
     "execution_count": 8,
     "metadata": {},
     "output_type": "execute_result"
    }
   ],
   "source": [
    "test_df.sample(5)"
   ]
  },
  {
   "cell_type": "code",
   "execution_count": 9,
   "id": "79659a2e",
   "metadata": {
    "execution": {
     "iopub.execute_input": "2022-12-10T10:35:41.217527Z",
     "iopub.status.busy": "2022-12-10T10:35:41.217268Z",
     "iopub.status.idle": "2022-12-10T10:35:41.245594Z",
     "shell.execute_reply": "2022-12-10T10:35:41.244734Z"
    },
    "papermill": {
     "duration": 0.039688,
     "end_time": "2022-12-10T10:35:41.247366",
     "exception": false,
     "start_time": "2022-12-10T10:35:41.207678",
     "status": "completed"
    },
    "tags": []
   },
   "outputs": [
    {
     "name": "stdout",
     "output_type": "stream",
     "text": [
      "<class 'pandas.core.frame.DataFrame'>\n",
      "Int64Index: 36016 entries, 0 to 36015\n",
      "Data columns (total 5 columns):\n",
      " #   Column      Non-Null Count  Dtype  \n",
      "---  ------      --------------  -----  \n",
      " 0   RevId       36016 non-null  int64  \n",
      " 1   UserId      36016 non-null  int64  \n",
      " 2   Comment     36016 non-null  object \n",
      " 3   image_urls  36016 non-null  object \n",
      " 4   Rating      36016 non-null  float64\n",
      "dtypes: float64(1), int64(2), object(2)\n",
      "memory usage: 1.6+ MB\n",
      "<class 'pandas.core.frame.DataFrame'>\n",
      "RangeIndex: 5103 entries, 0 to 5102\n",
      "Data columns (total 6 columns):\n",
      " #   Column      Non-Null Count  Dtype  \n",
      "---  ------      --------------  -----  \n",
      " 0   Unnamed: 0  5103 non-null   int64  \n",
      " 1   RevId       5103 non-null   int64  \n",
      " 2   UserId      5103 non-null   int64  \n",
      " 3   Comment     5103 non-null   object \n",
      " 4   image_urls  5103 non-null   object \n",
      " 5   Rating      5103 non-null   float64\n",
      "dtypes: float64(1), int64(3), object(2)\n",
      "memory usage: 239.3+ KB\n"
     ]
    },
    {
     "data": {
      "text/plain": [
       "(None, None)"
      ]
     },
     "execution_count": 9,
     "metadata": {},
     "output_type": "execute_result"
    }
   ],
   "source": [
    "train_df.info(), test_df.info()"
   ]
  },
  {
   "cell_type": "code",
   "execution_count": 10,
   "id": "5f74c87f",
   "metadata": {
    "execution": {
     "iopub.execute_input": "2022-12-10T10:35:41.266947Z",
     "iopub.status.busy": "2022-12-10T10:35:41.266174Z",
     "iopub.status.idle": "2022-12-10T10:35:41.488298Z",
     "shell.execute_reply": "2022-12-10T10:35:41.487679Z"
    },
    "papermill": {
     "duration": 0.233716,
     "end_time": "2022-12-10T10:35:41.490134",
     "exception": false,
     "start_time": "2022-12-10T10:35:41.256418",
     "status": "completed"
    },
    "tags": []
   },
   "outputs": [
    {
     "data": {
      "text/plain": [
       "<AxesSubplot:title={'center':'Train Rating distribution'}>"
      ]
     },
     "execution_count": 10,
     "metadata": {},
     "output_type": "execute_result"
    },
    {
     "data": {
      "image/png": "[encoded data removed]",
      "text/plain": [
       "<Figure size 432x288 with 1 Axes>"
      ]
     },
     "metadata": {
      "needs_background": "light"
     },
     "output_type": "display_data"
    }
   ],
   "source": [
    "train_df['label'] = train_df['Rating'].apply(lambda x: int(x > 6.0))\n",
    "train_df['label'].value_counts().plot(kind='bar', title='Train Rating distribution')"
   ]
  },
  {
   "cell_type": "code",
   "execution_count": 11,
   "id": "2ab1fad0",
   "metadata": {
    "execution": {
     "iopub.execute_input": "2022-12-10T10:35:41.509530Z",
     "iopub.status.busy": "2022-12-10T10:35:41.509286Z",
     "iopub.status.idle": "2022-12-10T10:35:41.710483Z",
     "shell.execute_reply": "2022-12-10T10:35:41.709491Z"
    },
    "papermill": {
     "duration": 0.213141,
     "end_time": "2022-12-10T10:35:41.712503",
     "exception": false,
     "start_time": "2022-12-10T10:35:41.499362",
     "status": "completed"
    },
    "tags": []
   },
   "outputs": [
    {
     "data": {
      "text/plain": [
       "<AxesSubplot:title={'center':'Test Rating distribution'}>"
      ]
     },
     "execution_count": 11,
     "metadata": {},
     "output_type": "execute_result"
    },
    {
     "data": {
      "image/png": "[encoded data removed]",
      "text/plain": [
       "<Figure size 432x288 with 1 Axes>"
      ]
     },
     "metadata": {
      "needs_background": "light"
     },
     "output_type": "display_data"
    }
   ],
   "source": [
    "test_df['label'] = train_df['Rating'].apply(lambda x: int(x > 6.0))\n",
    "test_df['label'].value_counts().plot(kind='bar', title='Test Rating distribution')"
   ]
  },
  {
   "cell_type": "code",
   "execution_count": 12,
   "id": "6fd08472",
   "metadata": {
    "execution": {
     "iopub.execute_input": "2022-12-10T10:35:41.732998Z",
     "iopub.status.busy": "2022-12-10T10:35:41.732694Z",
     "iopub.status.idle": "2022-12-10T10:35:55.590700Z",
     "shell.execute_reply": "2022-12-10T10:35:55.589497Z"
    },
    "papermill": {
     "duration": 13.870993,
     "end_time": "2022-12-10T10:35:55.593312",
     "exception": false,
     "start_time": "2022-12-10T10:35:41.722319",
     "status": "completed"
    },
    "tags": []
   },
   "outputs": [
    {
     "data": {
      "application/vnd.jupyter.widget-view+json": {
       "model_id": "4a24450ada4f4dc1bce4a470927ce2d8",
       "version_major": 2,
       "version_minor": 0
      },
      "text/plain": [
       "Downloading:   0%|          | 0.00/557 [00:00<?, ?B/s]"
      ]
     },
     "metadata": {},
     "output_type": "display_data"
    },
    {
     "data": {
      "application/vnd.jupyter.widget-view+json": {
       "model_id": "c25323f1254143c1a292efab5c91c28d",
       "version_major": 2,
       "version_minor": 0
      },
      "text/plain": [
       "Downloading:   0%|          | 0.00/874k [00:00<?, ?B/s]"
      ]
     },
     "metadata": {},
     "output_type": "display_data"
    },
    {
     "data": {
      "application/vnd.jupyter.widget-view+json": {
       "model_id": "fbe918b082ea43c58b4f90e01c1cfd76",
       "version_major": 2,
       "version_minor": 0
      },
      "text/plain": [
       "Downloading:   0%|          | 0.00/1.08M [00:00<?, ?B/s]"
      ]
     },
     "metadata": {},
     "output_type": "display_data"
    }
   ],
   "source": [
    "tokenizer = AutoTokenizer.from_pretrained(\"vinai/phobert-base\", use_fast=True, force_download=True)"
   ]
  },
  {
   "cell_type": "code",
   "execution_count": 13,
   "id": "8171f695",
   "metadata": {
    "execution": {
     "iopub.execute_input": "2022-12-10T10:35:55.614814Z",
     "iopub.status.busy": "2022-12-10T10:35:55.614459Z",
     "iopub.status.idle": "2022-12-10T10:35:55.628598Z",
     "shell.execute_reply": "2022-12-10T10:35:55.627722Z"
    },
    "papermill": {
     "duration": 0.027113,
     "end_time": "2022-12-10T10:35:55.630680",
     "exception": false,
     "start_time": "2022-12-10T10:35:55.603567",
     "status": "completed"
    },
    "tags": []
   },
   "outputs": [],
   "source": [
    "class SentimentDataset(Dataset):\n",
    "    def __init__(self, df, tokenizer, max_len=120, train=True):\n",
    "        self.df = df\n",
    "        self.max_len = max_len\n",
    "        self.tokenizer = tokenizer\n",
    "        self.train = train\n",
    "    \n",
    "    def __len__(self):\n",
    "        return len(self.df)\n",
    "\n",
    "    def __getitem__(self, index):\n",
    "        \"\"\"\n",
    "        To customize dataset, inherit from Dataset class and implement\n",
    "        __len__ & __getitem__\n",
    "        __getitem__ should return \n",
    "            data:\n",
    "                input_ids\n",
    "                attention_masks\n",
    "                text\n",
    "                targets\n",
    "        \"\"\"\n",
    "        row = self.df.iloc[index]\n",
    "        if self.train:\n",
    "            revid, text, label = self.get_input_data(row, self.train)\n",
    "        else:\n",
    "            revid, text = self.get_input_data(row, self.train)\n",
    "\n",
    "        # Encode_plus will:\n",
    "        # (1) split text into token\n",
    "        # (2) Add the '[CLS]' and '[SEP]' token to the start and end\n",
    "        # (3) Truncate/Pad sentence to max length\n",
    "        # (4) Map token to their IDS\n",
    "        # (5) Create attention mask\n",
    "        # (6) Return a dictionary of outputs\n",
    "        encoding = self.tokenizer.encode_plus(\n",
    "            text,\n",
    "            truncation=True,\n",
    "            add_special_tokens=True,\n",
    "            max_length=self.max_len,\n",
    "            padding='max_length',\n",
    "            return_attention_mask=True,\n",
    "            return_token_type_ids=False,\n",
    "            return_tensors='pt',\n",
    "        )\n",
    "        \n",
    "        if self.train:\n",
    "            return {\n",
    "                'revid': revid,\n",
    "                'text': text,\n",
    "                'input_ids': encoding['input_ids'].flatten(),\n",
    "                'attention_masks': encoding['attention_mask'].flatten(),\n",
    "                'targets': torch.tensor(label, dtype=torch.float),\n",
    "            }\n",
    "        else:\n",
    "            return {\n",
    "                'revid': revid,\n",
    "                'text': text,\n",
    "                'input_ids': encoding['input_ids'].flatten(),\n",
    "                'attention_masks': encoding['attention_mask'].flatten(),\n",
    "            }\n",
    "\n",
    "    def get_input_data(self, row, train=True):\n",
    "        # Preprocessing: {remove icon, special character, lower}\n",
    "        text = row['Comment']\n",
    "        text = ' '.join(word_tokenize(text))\n",
    "        revid = row['RevId']\n",
    "        if train:   \n",
    "            label = row['Rating'] / 10.0\n",
    "            return revid, text, label\n",
    "        return revid, text"
   ]
  },
  {
   "cell_type": "code",
   "execution_count": 14,
   "id": "15539467",
   "metadata": {
    "execution": {
     "iopub.execute_input": "2022-12-10T10:35:55.651319Z",
     "iopub.status.busy": "2022-12-10T10:35:55.651046Z",
     "iopub.status.idle": "2022-12-10T10:35:55.654988Z",
     "shell.execute_reply": "2022-12-10T10:35:55.654057Z"
    },
    "papermill": {
     "duration": 0.016381,
     "end_time": "2022-12-10T10:35:55.656914",
     "exception": false,
     "start_time": "2022-12-10T10:35:55.640533",
     "status": "completed"
    },
    "tags": []
   },
   "outputs": [],
   "source": [
    "# # Distribution of length of Comment\n",
    "# all_data = train_df.Comment.tolist() + test_df.Comment.tolist()\n",
    "# all_data = [' '.join(word_tokenize(text)) for text in all_data]\n",
    "# encoded_text = [tokenizer.encode(text, add_special_tokens=True) for text in all_data]\n",
    "# token_lens = [len(text) for text in encoded_text]\n",
    "# sns.displot(token_lens)\n",
    "# plt.xlim([0,max(token_lens)])\n",
    "# plt.xlabel('Token Count')"
   ]
  },
  {
   "cell_type": "code",
   "execution_count": 15,
   "id": "4f1d5261",
   "metadata": {
    "execution": {
     "iopub.execute_input": "2022-12-10T10:35:55.677927Z",
     "iopub.status.busy": "2022-12-10T10:35:55.677099Z",
     "iopub.status.idle": "2022-12-10T10:35:55.684277Z",
     "shell.execute_reply": "2022-12-10T10:35:55.683457Z"
    },
    "papermill": {
     "duration": 0.019653,
     "end_time": "2022-12-10T10:35:55.686230",
     "exception": false,
     "start_time": "2022-12-10T10:35:55.666577",
     "status": "completed"
    },
    "tags": []
   },
   "outputs": [],
   "source": [
    "class SentimentClassifier(nn.Module):\n",
    "    def __init__(self):\n",
    "        super(SentimentClassifier, self).__init__()\n",
    "        self.bert = AutoModel.from_pretrained(\"vinai/phobert-base\")\n",
    "\n",
    "#         for param in self.bert.parameters():\n",
    "#             param.requires_grad = False\n",
    "\n",
    "        self.drop = nn.Dropout(p=0.1)\n",
    "        self.fc = nn.Linear(self.bert.config.hidden_size, 1)\n",
    "        nn.init.normal_(self.fc.weight, std=0.02)\n",
    "        nn.init.normal_(self.fc.bias, 0)\n",
    "\n",
    "    def forward(self, input_ids, attention_mask):\n",
    "        last_hidden_state, output = self.bert(\n",
    "            input_ids=input_ids,\n",
    "            attention_mask=attention_mask,\n",
    "            return_dict=False # Dropout will errors if without this\n",
    "        )\n",
    "        x = output\n",
    "        x = self.drop(x)\n",
    "        x = self.fc(x)\n",
    "        return x"
   ]
  },
  {
   "cell_type": "code",
   "execution_count": 16,
   "id": "89c1349d",
   "metadata": {
    "execution": {
     "iopub.execute_input": "2022-12-10T10:35:55.707319Z",
     "iopub.status.busy": "2022-12-10T10:35:55.706548Z",
     "iopub.status.idle": "2022-12-10T10:35:55.713852Z",
     "shell.execute_reply": "2022-12-10T10:35:55.713033Z"
    },
    "papermill": {
     "duration": 0.019868,
     "end_time": "2022-12-10T10:35:55.715794",
     "exception": false,
     "start_time": "2022-12-10T10:35:55.695926",
     "status": "completed"
    },
    "tags": []
   },
   "outputs": [],
   "source": [
    "def train_one_epoch(model, criterion, optimizer, train_loader):\n",
    "    model.train()\n",
    "    epoch_loss = 0.\n",
    "\n",
    "    for data in tqdm(train_loader):\n",
    "        input_ids = data['input_ids'].to(device)\n",
    "        attention_mask = data['attention_masks'].to(device)\n",
    "        targets = data['targets'].to(device)\n",
    "        # targets = targets.unsqueeze(1).float()\n",
    "        optimizer.zero_grad()\n",
    "        outputs = model(\n",
    "            input_ids=input_ids,\n",
    "            attention_mask=attention_mask\n",
    "        )\n",
    "        outputs = torch.squeeze(torch.sigmoid(outputs))\n",
    "\n",
    "        loss = criterion(outputs, targets)\n",
    "        epoch_loss += loss.item()\n",
    "        loss.backward()\n",
    "        nn.utils.clip_grad_norm_(model.parameters(), max_norm=1.0)\n",
    "        optimizer.step()\n",
    "        lr_scheduler.step()\n",
    "\n",
    "    print(f'Train Loss: {epoch_loss / len(train_loader)}')\n",
    "    return epoch_loss / len(train_loader)"
   ]
  },
  {
   "cell_type": "code",
   "execution_count": 17,
   "id": "6dd4d559",
   "metadata": {
    "execution": {
     "iopub.execute_input": "2022-12-10T10:35:55.736689Z",
     "iopub.status.busy": "2022-12-10T10:35:55.735914Z",
     "iopub.status.idle": "2022-12-10T10:35:55.745401Z",
     "shell.execute_reply": "2022-12-10T10:35:55.744606Z"
    },
    "papermill": {
     "duration": 0.021979,
     "end_time": "2022-12-10T10:35:55.747349",
     "exception": false,
     "start_time": "2022-12-10T10:35:55.725370",
     "status": "completed"
    },
    "tags": []
   },
   "outputs": [],
   "source": [
    "from sklearn.metrics import accuracy_score, precision_score, recall_score, f1_score, roc_auc_score\n",
    "\n",
    "def val_one_epoch(model, test_loader):\n",
    "    model.eval()\n",
    "    pre = {}\n",
    "    gt = {}\n",
    "\n",
    "    for data in tqdm(test_loader):\n",
    "        input_ids = data['input_ids'].to(device)\n",
    "        attention_mask = data['attention_masks'].to(device)\n",
    "        targets = data['targets'].detach().cpu().numpy().tolist()\n",
    "        revid = data['revid']\n",
    "        outputs = model(\n",
    "            input_ids=input_ids,\n",
    "            attention_mask=attention_mask\n",
    "        )\n",
    "        outputs = torch.squeeze(torch.sigmoid(outputs))\n",
    "        outputs = outputs.detach().cpu().numpy().tolist()\n",
    "#         print(revid)\n",
    "        for i in range(len(revid)):\n",
    "            pre[revid[i]] = outputs[i]\n",
    "            gt[revid[i]] = targets[i]\n",
    "    \n",
    "    pre = [int(pre[i] > 0.6) for i in sorted(pre.keys())]\n",
    "    gt = [int(gt[i] > 0.6) if gt[i] > 0 else 1 for i in sorted(gt.keys())]\n",
    "\n",
    "    acc = accuracy_score(gt, pre)\n",
    "    precision = precision_score(gt, pre)\n",
    "    recall = recall_score(gt, pre)\n",
    "    f1 = f1_score(gt, pre)\n",
    "    roc_auc = roc_auc_score(gt, pre)\n",
    "    return acc, precision, recall, f1, roc_auc\n",
    "    "
   ]
  },
  {
   "cell_type": "code",
   "execution_count": 18,
   "id": "69c0f697",
   "metadata": {
    "execution": {
     "iopub.execute_input": "2022-12-10T10:35:55.768311Z",
     "iopub.status.busy": "2022-12-10T10:35:55.767523Z",
     "iopub.status.idle": "2022-12-10T10:35:55.775582Z",
     "shell.execute_reply": "2022-12-10T10:35:55.774774Z"
    },
    "papermill": {
     "duration": 0.020441,
     "end_time": "2022-12-10T10:35:55.777537",
     "exception": false,
     "start_time": "2022-12-10T10:35:55.757096",
     "status": "completed"
    },
    "tags": []
   },
   "outputs": [],
   "source": [
    "def infer(model, test_loader, subname, ckpt=None):\n",
    "    model.eval()\n",
    "    if ckpt is not None:\n",
    "        model.load_state_dict(torch.load(ckpt))\n",
    "    test_revids = []\n",
    "    test_rating = []\n",
    "\n",
    "    for data in tqdm(test_loader):\n",
    "        input_ids = data['input_ids'].to(device)\n",
    "        attention_mask = data['attention_masks'].to(device)\n",
    "        revid = data['revid']\n",
    "        outputs = model(\n",
    "            input_ids=input_ids,\n",
    "            attention_mask=attention_mask\n",
    "        )\n",
    "        outputs = torch.squeeze(torch.sigmoid(outputs))\n",
    "        outputs = outputs.detach().cpu().numpy().tolist()\n",
    "        outputs = [int(out > 0.6) for out in outputs]\n",
    "        revid = revid.cpu().numpy().tolist()\n",
    "        test_revids.extend(revid)\n",
    "        test_rating.extend(outputs)\n",
    "        \n",
    "    out = pd.DataFrame({'RevId': test_revids, 'Rating': test_rating})\n",
    "    out.sort_values(by=['RevId'], inplace=True)\n",
    "    out.to_csv(f'submission_{str(subname)}.csv', index=False) \n",
    "        \n",
    "#     return test_revids, test_rating"
   ]
  },
  {
   "cell_type": "code",
   "execution_count": 19,
   "id": "02b65e5c",
   "metadata": {
    "execution": {
     "iopub.execute_input": "2022-12-10T10:35:55.798746Z",
     "iopub.status.busy": "2022-12-10T10:35:55.797965Z",
     "iopub.status.idle": "2022-12-10T10:35:55.803622Z",
     "shell.execute_reply": "2022-12-10T10:35:55.802807Z"
    },
    "papermill": {
     "duration": 0.018289,
     "end_time": "2022-12-10T10:35:55.805555",
     "exception": false,
     "start_time": "2022-12-10T10:35:55.787266",
     "status": "completed"
    },
    "tags": []
   },
   "outputs": [],
   "source": [
    "train_dataset = SentimentDataset(train_df, tokenizer, max_len=256)\n",
    "test_dataset = SentimentDataset(test_df, tokenizer, max_len=256)\n",
    "\n",
    "train_loader = DataLoader(train_dataset, batch_size=32, pin_memory=True, shuffle=True, num_workers=2)\n",
    "test_loader = DataLoader(test_dataset, batch_size=32, pin_memory=True, shuffle=False, num_workers=2)"
   ]
  },
  {
   "cell_type": "code",
   "execution_count": 20,
   "id": "2f992f0d",
   "metadata": {
    "execution": {
     "iopub.execute_input": "2022-12-10T10:35:55.828203Z",
     "iopub.status.busy": "2022-12-10T10:35:55.827410Z",
     "iopub.status.idle": "2022-12-10T10:36:41.586110Z",
     "shell.execute_reply": "2022-12-10T10:36:41.584818Z"
    },
    "papermill": {
     "duration": 45.772651,
     "end_time": "2022-12-10T10:36:41.589059",
     "exception": false,
     "start_time": "2022-12-10T10:35:55.816408",
     "status": "completed"
    },
    "tags": []
   },
   "outputs": [
    {
     "data": {
      "application/vnd.jupyter.widget-view+json": {
       "model_id": "f77851b6f1094608aa31936c85f7e23a",
       "version_major": 2,
       "version_minor": 0
      },
      "text/plain": [
       "Downloading:   0%|          | 0.00/518M [00:00<?, ?B/s]"
      ]
     },
     "metadata": {},
     "output_type": "display_data"
    }
   ],
   "source": [
    " model = SentimentClassifier().to(device)"
   ]
  },
  {
   "cell_type": "code",
   "execution_count": 21,
   "id": "a42d74bc",
   "metadata": {
    "execution": {
     "iopub.execute_input": "2022-12-10T10:36:41.611545Z",
     "iopub.status.busy": "2022-12-10T10:36:41.610526Z",
     "iopub.status.idle": "2022-12-10T10:36:41.615592Z",
     "shell.execute_reply": "2022-12-10T10:36:41.614669Z"
    },
    "papermill": {
     "duration": 0.018288,
     "end_time": "2022-12-10T10:36:41.617603",
     "exception": false,
     "start_time": "2022-12-10T10:36:41.599315",
     "status": "completed"
    },
    "tags": []
   },
   "outputs": [],
   "source": [
    "EPOCHS = 15\n",
    "WARM_UP_EPOCHS = 5\n",
    "MAX_PATIENCE = 3"
   ]
  },
  {
   "cell_type": "code",
   "execution_count": 22,
   "id": "efb97f4f",
   "metadata": {
    "execution": {
     "iopub.execute_input": "2022-12-10T10:36:41.638394Z",
     "iopub.status.busy": "2022-12-10T10:36:41.638129Z",
     "iopub.status.idle": "2022-12-10T10:36:41.645843Z",
     "shell.execute_reply": "2022-12-10T10:36:41.645018Z"
    },
    "papermill": {
     "duration": 0.020579,
     "end_time": "2022-12-10T10:36:41.647930",
     "exception": false,
     "start_time": "2022-12-10T10:36:41.627351",
     "status": "completed"
    },
    "tags": []
   },
   "outputs": [],
   "source": [
    "criterion = nn.MSELoss().to(device)\n",
    "optimizer = AdamW(model.parameters(), lr=5e-5)\n",
    "lr_scheduler = get_linear_schedule_with_warmup(\n",
    "            optimizer, \n",
    "            num_warmup_steps=len(train_loader)*WARM_UP_EPOCHS, \n",
    "            num_training_steps=len(train_loader)*EPOCHS\n",
    "        )"
   ]
  },
  {
   "cell_type": "code",
   "execution_count": 23,
   "id": "803d8416",
   "metadata": {
    "execution": {
     "iopub.execute_input": "2022-12-10T10:36:41.668554Z",
     "iopub.status.busy": "2022-12-10T10:36:41.668285Z",
     "iopub.status.idle": "2022-12-10T14:20:35.542678Z",
     "shell.execute_reply": "2022-12-10T14:20:35.541534Z"
    },
    "papermill": {
     "duration": 13434.345854,
     "end_time": "2022-12-10T14:20:36.003579",
     "exception": false,
     "start_time": "2022-12-10T10:36:41.657725",
     "status": "completed"
    },
    "tags": []
   },
   "outputs": [
    {
     "name": "stdout",
     "output_type": "stream",
     "text": [
      "Epoch 1/15\n",
      "------------------------------\n"
     ]
    },
    {
     "name": "stderr",
     "output_type": "stream",
     "text": [
      "100%|██████████| 1126/1126 [13:56<00:00,  1.35it/s]\n"
     ]
    },
    {
     "name": "stdout",
     "output_type": "stream",
     "text": [
      "Train Loss: 0.02686457143687903\n",
      "Epoch 2/15\n",
      "------------------------------\n"
     ]
    },
    {
     "name": "stderr",
     "output_type": "stream",
     "text": [
      "100%|██████████| 1126/1126 [13:57<00:00,  1.34it/s]\n"
     ]
    },
    {
     "name": "stdout",
     "output_type": "stream",
     "text": [
      "Train Loss: 0.016136984872676393\n",
      "Epoch 3/15\n",
      "------------------------------\n"
     ]
    },
    {
     "name": "stderr",
     "output_type": "stream",
     "text": [
      "100%|██████████| 1126/1126 [13:58<00:00,  1.34it/s]\n"
     ]
    },
    {
     "name": "stdout",
     "output_type": "stream",
     "text": [
      "Train Loss: 0.014152134666517113\n",
      "Epoch 4/15\n",
      "------------------------------\n"
     ]
    },
    {
     "name": "stderr",
     "output_type": "stream",
     "text": [
      "100%|██████████| 1126/1126 [13:58<00:00,  1.34it/s]\n"
     ]
    },
    {
     "name": "stdout",
     "output_type": "stream",
     "text": [
      "Train Loss: 0.012841884293684448\n",
      "Epoch 5/15\n",
      "------------------------------\n"
     ]
    },
    {
     "name": "stderr",
     "output_type": "stream",
     "text": [
      "100%|██████████| 1126/1126 [13:58<00:00,  1.34it/s]\n"
     ]
    },
    {
     "name": "stdout",
     "output_type": "stream",
     "text": [
      "Train Loss: 0.0117447424138653\n",
      "Epoch 6/15\n",
      "------------------------------\n"
     ]
    },
    {
     "name": "stderr",
     "output_type": "stream",
     "text": [
      "100%|██████████| 1126/1126 [13:58<00:00,  1.34it/s]\n"
     ]
    },
    {
     "name": "stdout",
     "output_type": "stream",
     "text": [
      "Train Loss: 0.010289273249791012\n",
      "Validation epoch 6\n"
     ]
    },
    {
     "name": "stderr",
     "output_type": "stream",
     "text": [
      "100%|██████████| 160/160 [00:39<00:00,  4.08it/s]\n"
     ]
    },
    {
     "name": "stdout",
     "output_type": "stream",
     "text": [
      "Test metrics:\n",
      "Accuracy: 0.9451303155006858\n",
      "Precision: 0.9577156743620899\n",
      "Recall: 0.973807758833704\n",
      "F1: 0.9656946826758147\n",
      "ROC AUC: 0.9045175157804883\n"
     ]
    },
    {
     "name": "stderr",
     "output_type": "stream",
     "text": [
      "100%|██████████| 160/160 [00:39<00:00,  4.10it/s]\n"
     ]
    },
    {
     "name": "stdout",
     "output_type": "stream",
     "text": [
      "Epoch 7/15\n",
      "------------------------------\n"
     ]
    },
    {
     "name": "stderr",
     "output_type": "stream",
     "text": [
      "100%|██████████| 1126/1126 [13:59<00:00,  1.34it/s]\n"
     ]
    },
    {
     "name": "stdout",
     "output_type": "stream",
     "text": [
      "Train Loss: 0.008382641532512954\n",
      "Validation epoch 7\n"
     ]
    },
    {
     "name": "stderr",
     "output_type": "stream",
     "text": [
      "100%|██████████| 160/160 [00:39<00:00,  4.06it/s]\n"
     ]
    },
    {
     "name": "stdout",
     "output_type": "stream",
     "text": [
      "Test metrics:\n",
      "Accuracy: 0.9488536155202821\n",
      "Precision: 0.9592430858806404\n",
      "Recall: 0.9770200148257969\n",
      "F1: 0.9680499449136982\n",
      "ROC AUC: 0.9089645528674439\n"
     ]
    },
    {
     "name": "stderr",
     "output_type": "stream",
     "text": [
      "100%|██████████| 160/160 [00:39<00:00,  4.07it/s]\n"
     ]
    },
    {
     "name": "stdout",
     "output_type": "stream",
     "text": [
      "Epoch 8/15\n",
      "------------------------------\n"
     ]
    },
    {
     "name": "stderr",
     "output_type": "stream",
     "text": [
      "100%|██████████| 1126/1126 [14:00<00:00,  1.34it/s]\n"
     ]
    },
    {
     "name": "stdout",
     "output_type": "stream",
     "text": [
      "Train Loss: 0.006930701908544632\n",
      "Validation epoch 8\n"
     ]
    },
    {
     "name": "stderr",
     "output_type": "stream",
     "text": [
      "100%|██████████| 160/160 [00:39<00:00,  4.05it/s]\n"
     ]
    },
    {
     "name": "stdout",
     "output_type": "stream",
     "text": [
      "Test metrics:\n",
      "Accuracy: 0.9545365471291397\n",
      "Precision: 0.9662674162796382\n",
      "Recall: 0.9767729182110205\n",
      "F1: 0.9714917670189236\n",
      "ROC AUC: 0.9230455500146012\n"
     ]
    },
    {
     "name": "stderr",
     "output_type": "stream",
     "text": [
      "100%|██████████| 160/160 [00:39<00:00,  4.06it/s]\n"
     ]
    },
    {
     "name": "stdout",
     "output_type": "stream",
     "text": [
      "Epoch 9/15\n",
      "------------------------------\n"
     ]
    },
    {
     "name": "stderr",
     "output_type": "stream",
     "text": [
      "100%|██████████| 1126/1126 [14:01<00:00,  1.34it/s]\n"
     ]
    },
    {
     "name": "stdout",
     "output_type": "stream",
     "text": [
      "Train Loss: 0.005517781077413513\n",
      "Validation epoch 9\n"
     ]
    },
    {
     "name": "stderr",
     "output_type": "stream",
     "text": [
      "100%|██████████| 160/160 [00:39<00:00,  4.08it/s]\n"
     ]
    },
    {
     "name": "stdout",
     "output_type": "stream",
     "text": [
      "Test metrics:\n",
      "Accuracy: 0.9604154418969234\n",
      "Precision: 0.976456009913259\n",
      "Recall: 0.9735606622189276\n",
      "F1: 0.9750061865874783\n",
      "ROC AUC: 0.9417992705034033\n"
     ]
    },
    {
     "name": "stderr",
     "output_type": "stream",
     "text": [
      "100%|██████████| 160/160 [00:39<00:00,  4.02it/s]\n"
     ]
    },
    {
     "name": "stdout",
     "output_type": "stream",
     "text": [
      "Epoch 10/15\n",
      "------------------------------\n"
     ]
    },
    {
     "name": "stderr",
     "output_type": "stream",
     "text": [
      "100%|██████████| 1126/1126 [14:01<00:00,  1.34it/s]\n"
     ]
    },
    {
     "name": "stdout",
     "output_type": "stream",
     "text": [
      "Train Loss: 0.004409437702921571\n",
      "Validation epoch 10\n"
     ]
    },
    {
     "name": "stderr",
     "output_type": "stream",
     "text": [
      "100%|██████████| 160/160 [00:39<00:00,  4.07it/s]\n"
     ]
    },
    {
     "name": "stdout",
     "output_type": "stream",
     "text": [
      "Test metrics:\n",
      "Accuracy: 0.9635508524397414\n",
      "Precision: 0.9851721538074893\n",
      "Recall: 0.9686187299234\n",
      "F1: 0.9768253177174183\n",
      "ROC AUC: 0.956373758901094\n"
     ]
    },
    {
     "name": "stderr",
     "output_type": "stream",
     "text": [
      "100%|██████████| 160/160 [00:39<00:00,  4.00it/s]\n"
     ]
    },
    {
     "name": "stdout",
     "output_type": "stream",
     "text": [
      "Epoch 11/15\n",
      "------------------------------\n"
     ]
    },
    {
     "name": "stderr",
     "output_type": "stream",
     "text": [
      "100%|██████████| 1126/1126 [14:01<00:00,  1.34it/s]\n"
     ]
    },
    {
     "name": "stdout",
     "output_type": "stream",
     "text": [
      "Train Loss: 0.0034133225113242784\n",
      "Validation epoch 11\n"
     ]
    },
    {
     "name": "stderr",
     "output_type": "stream",
     "text": [
      "100%|██████████| 160/160 [00:39<00:00,  4.06it/s]\n"
     ]
    },
    {
     "name": "stdout",
     "output_type": "stream",
     "text": [
      "Test metrics:\n",
      "Accuracy: 0.9684499314128944\n",
      "Precision: 0.9894206549118388\n",
      "Recall: 0.9705955028416111\n",
      "F1: 0.979917674940751\n",
      "ROC AUC: 0.9654113877844419\n"
     ]
    },
    {
     "name": "stderr",
     "output_type": "stream",
     "text": [
      "100%|██████████| 160/160 [00:39<00:00,  4.04it/s]\n"
     ]
    },
    {
     "name": "stdout",
     "output_type": "stream",
     "text": [
      "Epoch 12/15\n",
      "------------------------------\n"
     ]
    },
    {
     "name": "stderr",
     "output_type": "stream",
     "text": [
      "100%|██████████| 1126/1126 [14:00<00:00,  1.34it/s]\n"
     ]
    },
    {
     "name": "stdout",
     "output_type": "stream",
     "text": [
      "Train Loss: 0.0026979278057104815\n",
      "Validation epoch 12\n"
     ]
    },
    {
     "name": "stderr",
     "output_type": "stream",
     "text": [
      "100%|██████████| 160/160 [00:39<00:00,  4.03it/s]\n"
     ]
    },
    {
     "name": "stdout",
     "output_type": "stream",
     "text": [
      "Test metrics:\n",
      "Accuracy: 0.9700176366843033\n",
      "Precision: 0.9891959798994975\n",
      "Recall: 0.9728193723745985\n",
      "F1: 0.9809393297620531\n",
      "ROC AUC: 0.9660498377024508\n"
     ]
    },
    {
     "name": "stderr",
     "output_type": "stream",
     "text": [
      "100%|██████████| 160/160 [00:39<00:00,  4.08it/s]\n"
     ]
    },
    {
     "name": "stdout",
     "output_type": "stream",
     "text": [
      "Epoch 13/15\n",
      "------------------------------\n"
     ]
    },
    {
     "name": "stderr",
     "output_type": "stream",
     "text": [
      "100%|██████████| 1126/1126 [14:00<00:00,  1.34it/s]\n"
     ]
    },
    {
     "name": "stdout",
     "output_type": "stream",
     "text": [
      "Train Loss: 0.0021849076117208596\n",
      "Validation epoch 13\n"
     ]
    },
    {
     "name": "stderr",
     "output_type": "stream",
     "text": [
      "100%|██████████| 160/160 [00:39<00:00,  4.05it/s]\n"
     ]
    },
    {
     "name": "stdout",
     "output_type": "stream",
     "text": [
      "Test metrics:\n",
      "Accuracy: 0.9721732314324907\n",
      "Precision: 0.9924337957124842\n",
      "Recall: 0.9723251791450457\n",
      "F1: 0.9822765851223165\n",
      "ROC AUC: 0.9719580441179774\n"
     ]
    },
    {
     "name": "stderr",
     "output_type": "stream",
     "text": [
      "100%|██████████| 160/160 [00:39<00:00,  4.09it/s]\n"
     ]
    },
    {
     "name": "stdout",
     "output_type": "stream",
     "text": [
      "Epoch 14/15\n",
      "------------------------------\n"
     ]
    },
    {
     "name": "stderr",
     "output_type": "stream",
     "text": [
      "100%|██████████| 1126/1126 [14:00<00:00,  1.34it/s]\n"
     ]
    },
    {
     "name": "stdout",
     "output_type": "stream",
     "text": [
      "Train Loss: 0.0017842008570663228\n",
      "Validation epoch 14\n"
     ]
    },
    {
     "name": "stderr",
     "output_type": "stream",
     "text": [
      "100%|██████████| 160/160 [00:39<00:00,  4.08it/s]\n"
     ]
    },
    {
     "name": "stdout",
     "output_type": "stream",
     "text": [
      "Test metrics:\n",
      "Accuracy: 0.9737409367038997\n",
      "Precision: 0.9934426229508196\n",
      "Recall: 0.9733135656041513\n",
      "F1: 0.9832750873689466\n",
      "ROC AUC: 0.9743461767414695\n"
     ]
    },
    {
     "name": "stderr",
     "output_type": "stream",
     "text": [
      "100%|██████████| 160/160 [00:39<00:00,  4.08it/s]\n"
     ]
    },
    {
     "name": "stdout",
     "output_type": "stream",
     "text": [
      "Epoch 15/15\n",
      "------------------------------\n"
     ]
    },
    {
     "name": "stderr",
     "output_type": "stream",
     "text": [
      "100%|██████████| 1126/1126 [14:01<00:00,  1.34it/s]\n"
     ]
    },
    {
     "name": "stdout",
     "output_type": "stream",
     "text": [
      "Train Loss: 0.0015446886014036972\n",
      "Validation epoch 15\n"
     ]
    },
    {
     "name": "stderr",
     "output_type": "stream",
     "text": [
      "100%|██████████| 160/160 [00:39<00:00,  4.08it/s]\n"
     ]
    },
    {
     "name": "stdout",
     "output_type": "stream",
     "text": [
      "Test metrics:\n",
      "Accuracy: 0.9755046051342348\n",
      "Precision: 0.993705941591138\n",
      "Recall: 0.9752903385223622\n",
      "F1: 0.9844120214490586\n",
      "ROC AUC: 0.97580804804906\n"
     ]
    },
    {
     "name": "stderr",
     "output_type": "stream",
     "text": [
      "100%|██████████| 160/160 [00:39<00:00,  4.08it/s]\n"
     ]
    }
   ],
   "source": [
    "best_loss = 1e9\n",
    "best_roc = 0\n",
    "best_acc = 0\n",
    "patience = 0\n",
    "\n",
    "for epoch in range(EPOCHS):\n",
    "    print(f'Epoch {epoch+1}/{EPOCHS}')\n",
    "    print('-'*30)\n",
    "\n",
    "    epoch_loss = train_one_epoch(model, criterion, optimizer, train_loader)\n",
    "    \n",
    "    if epoch == 0 or (epoch + 1) % 5 == 0 or epoch == EPOCHS - 1:\n",
    "        torch.save(model.state_dict(), f'./epoch_{epoch}.pth')\n",
    "    \n",
    "    if epoch < WARM_UP_EPOCHS:\n",
    "        continue\n",
    "        \n",
    "    print('Validation epoch {}'.format(epoch+1))\n",
    "    \n",
    "#     acc, precision, recall, f1, roc_auc = val_one_epoch(model, train_loader)\n",
    "#     print('Train metrics:')\n",
    "#     print(f'Accuracy: {acc}')\n",
    "#     print(f'Precision: {precision}')\n",
    "#     print(f'Recall: {recall}')\n",
    "#     print(f'F1: {f1}')\n",
    "#     print(f'ROC AUC: {roc_auc}')\n",
    "    \n",
    "    acc, precision, recall, f1, roc_auc = val_one_epoch(model, test_loader)\n",
    "    print('Test metrics:')\n",
    "    print(f'Accuracy: {acc}')\n",
    "    print(f'Precision: {precision}')\n",
    "    print(f'Recall: {recall}')\n",
    "    print(f'F1: {f1}')\n",
    "    print(f'ROC AUC: {roc_auc}')\n",
    "    \n",
    "    if roc_auc > best_roc:\n",
    "        best_roc = roc_auc\n",
    "        torch.save(model.state_dict(), 'best_roc.pth')\n",
    "    \n",
    "    if acc > best_acc:\n",
    "        best_acc = acc\n",
    "        torch.save(model.state_dict(), 'best_acc.pth')\n",
    "            \n",
    "    if epoch_loss < best_loss:\n",
    "        best_loss = epoch_loss\n",
    "        torch.save(model.state_dict(), 'best_loss.pth')\n",
    "        patience = 0\n",
    "    else:\n",
    "        patience += 1\n",
    "        \n",
    "    if patience == MAX_PATIENCE:\n",
    "        break\n",
    "        \n",
    "    infer(model, test_loader, subname=epoch)"
   ]
  },
  {
   "cell_type": "code",
   "execution_count": 24,
   "id": "31ce617f",
   "metadata": {
    "execution": {
     "iopub.execute_input": "2022-12-10T14:20:38.575688Z",
     "iopub.status.busy": "2022-12-10T14:20:38.575268Z",
     "iopub.status.idle": "2022-12-10T14:21:18.407060Z",
     "shell.execute_reply": "2022-12-10T14:21:18.405775Z"
    },
    "papermill": {
     "duration": 41.392714,
     "end_time": "2022-12-10T14:21:18.409241",
     "exception": false,
     "start_time": "2022-12-10T14:20:37.016527",
     "status": "completed"
    },
    "tags": []
   },
   "outputs": [
    {
     "name": "stderr",
     "output_type": "stream",
     "text": [
      "100%|██████████| 160/160 [00:39<00:00,  4.05it/s]\n"
     ]
    }
   ],
   "source": [
    "infer(model, test_loader, subname='roc', ckpt='best_roc.pth')"
   ]
  },
  {
   "cell_type": "code",
   "execution_count": 25,
   "id": "290fe9f2",
   "metadata": {
    "execution": {
     "iopub.execute_input": "2022-12-10T14:21:20.539320Z",
     "iopub.status.busy": "2022-12-10T14:21:20.538929Z",
     "iopub.status.idle": "2022-12-10T14:22:00.359682Z",
     "shell.execute_reply": "2022-12-10T14:22:00.358012Z"
    },
    "papermill": {
     "duration": 40.863409,
     "end_time": "2022-12-10T14:22:00.362000",
     "exception": false,
     "start_time": "2022-12-10T14:21:19.498591",
     "status": "completed"
    },
    "tags": []
   },
   "outputs": [
    {
     "name": "stderr",
     "output_type": "stream",
     "text": [
      "100%|██████████| 160/160 [00:39<00:00,  4.05it/s]\n"
     ]
    }
   ],
   "source": [
    "infer(model, test_loader, subname='loss', ckpt='best_loss.pth')"
   ]
  },
  {
   "cell_type": "code",
   "execution_count": 26,
   "id": "39e99bbe",
   "metadata": {
    "execution": {
     "iopub.execute_input": "2022-12-10T14:22:02.574032Z",
     "iopub.status.busy": "2022-12-10T14:22:02.573610Z",
     "iopub.status.idle": "2022-12-10T14:22:42.674845Z",
     "shell.execute_reply": "2022-12-10T14:22:42.673813Z"
    },
    "papermill": {
     "duration": 41.284245,
     "end_time": "2022-12-10T14:22:42.676884",
     "exception": false,
     "start_time": "2022-12-10T14:22:01.392639",
     "status": "completed"
    },
    "tags": []
   },
   "outputs": [
    {
     "name": "stderr",
     "output_type": "stream",
     "text": [
      "100%|██████████| 160/160 [00:39<00:00,  4.03it/s]\n"
     ]
    }
   ],
   "source": [
    "infer(model, test_loader, subname='acc', ckpt='best_acc.pth')"
   ]
  },
  {
   "cell_type": "code",
   "execution_count": null,
   "id": "1c79f4a2",
   "metadata": {
    "papermill": {
     "duration": 1.515963,
     "end_time": "2022-12-10T14:22:45.536235",
     "exception": false,
     "start_time": "2022-12-10T14:22:44.020272",
     "status": "completed"
    },
    "tags": []
   },
   "outputs": [],
   "source": []
  }
 ],
 "metadata": {
  "kernelspec": {
   "display_name": "Python 3.9.12 ('base')",
   "language": "python",
   "name": "python3"
  },
  "language_info": {
   "codemirror_mode": {
    "name": "ipython",
    "version": 3
   },
   "file_extension": ".py",
   "mimetype": "text/x-python",
   "name": "python",
   "nbconvert_exporter": "python",
   "pygments_lexer": "ipython3",
   "version": "3.9.12"
  },
  "papermill": {
   "default_parameters": {},
   "duration": 13669.411892,
   "end_time": "2022-12-10T14:22:49.499234",
   "environment_variables": {},
   "exception": null,
   "input_path": "__notebook__.ipynb",
   "output_path": "__notebook__.ipynb",
   "parameters": {},
   "start_time": "2022-12-10T10:35:00.087342",
   "version": "2.3.4"
  },
  "vscode": {
   "interpreter": {
    "hash": "19d1d53a962d236aa061289c2ac16dc8e6d9648c89fe79f459ae9a3493bc67b4"
   }
  },
  "widgets": {
   "application/vnd.jupyter.widget-state+json": {
    "state": {
     "0a282b59b2114ae095be29771b2b8f85": {
      "model_module": "@jupyter-widgets/controls",
      "model_module_version": "1.5.0",
      "model_name": "DescriptionStyleModel",
      "state": {
       "_model_module": "@jupyter-widgets/controls",
       "_model_module_version": "1.5.0",
       "_model_name": "DescriptionStyleModel",
       "_view_count": null,
       "_view_module": "@jupyter-widgets/base",
       "_view_module_version": "1.2.0",
       "_view_name": "StyleView",
       "description_width": ""
      }
     },
     "16ec9fd70e234dd3a850e47fae624501": {
      "model_module": "@jupyter-widgets/controls",
      "model_module_version": "1.5.0",
      "model_name": "DescriptionStyleModel",
      "state": {
       "_model_module": "@jupyter-widgets/controls",
       "_model_module_version": "1.5.0",
       "_model_name": "DescriptionStyleModel",
       "_view_count": null,
       "_view_module": "@jupyter-widgets/base",
       "_view_module_version": "1.2.0",
       "_view_name": "StyleView",
       "description_width": ""
      }
     },
     "1b3f047d91734d20aa4f021ae86a2c97": {
      "model_module": "@jupyter-widgets/base",
      "model_module_version": "1.2.0",
      "model_name": "LayoutModel",
      "state": {
       "_model_module": "@jupyter-widgets/base",
       "_model_module_version": "1.2.0",
       "_model_name": "LayoutModel",
       "_view_count": null,
       "_view_module": "@jupyter-widgets/base",
       "_view_module_version": "1.2.0",
       "_view_name": "LayoutView",
       "align_content": null,
       "align_items": null,
       "align_self": null,
       "border": null,
       "bottom": null,
       "display": null,
       "flex": null,
       "flex_flow": null,
       "grid_area": null,
       "grid_auto_columns": null,
       "grid_auto_flow": null,
       "grid_auto_rows": null,
       "grid_column": null,
       "grid_gap": null,
       "grid_row": null,
       "grid_template_areas": null,
       "grid_template_columns": null,
       "grid_template_rows": null,
       "height": null,
       "justify_content": null,
       "justify_items": null,
       "left": null,
       "margin": null,
       "max_height": null,
       "max_width": null,
       "min_height": null,
       "min_width": null,
       "object_fit": null,
       "object_position": null,
       "order": null,
       "overflow": null,
       "overflow_x": null,
       "overflow_y": null,
       "padding": null,
       "right": null,
       "top": null,
       "visibility": null,
       "width": null
      }
     },
     "1d57333269b24c3bafe8ff1cd288c253": {
      "model_module": "@jupyter-widgets/controls",
      "model_module_version": "1.5.0",
      "model_name": "DescriptionStyleModel",
      "state": {
       "_model_module": "@jupyter-widgets/controls",
       "_model_module_version": "1.5.0",
       "_model_name": "DescriptionStyleModel",
       "_view_count": null,
       "_view_module": "@jupyter-widgets/base",
       "_view_module_version": "1.2.0",
       "_view_name": "StyleView",
       "description_width": ""
      }
     },
     "22895a3191ea4d86930fc5b83ca442e9": {
      "model_module": "@jupyter-widgets/base",
      "model_module_version": "1.2.0",
      "model_name": "LayoutModel",
      "state": {
       "_model_module": "@jupyter-widgets/base",
       "_model_module_version": "1.2.0",
       "_model_name": "LayoutModel",
       "_view_count": null,
       "_view_module": "@jupyter-widgets/base",
       "_view_module_version": "1.2.0",
       "_view_name": "LayoutView",
       "align_content": null,
       "align_items": null,
       "align_self": null,
       "border": null,
       "bottom": null,
       "display": null,
       "flex": null,
       "flex_flow": null,
       "grid_area": null,
       "grid_auto_columns": null,
       "grid_auto_flow": null,
       "grid_auto_rows": null,
       "grid_column": null,
       "grid_gap": null,
       "grid_row": null,
       "grid_template_areas": null,
       "grid_template_columns": null,
       "grid_template_rows": null,
       "height": null,
       "justify_content": null,
       "justify_items": null,
       "left": null,
       "margin": null,
       "max_height": null,
       "max_width": null,
       "min_height": null,
       "min_width": null,
       "object_fit": null,
       "object_position": null,
       "order": null,
       "overflow": null,
       "overflow_x": null,
       "overflow_y": null,
       "padding": null,
       "right": null,
       "top": null,
       "visibility": null,
       "width": null
      }
     },
     "25ddab61105140c2b50747c54b673fa8": {
      "model_module": "@jupyter-widgets/controls",
      "model_module_version": "1.5.0",
      "model_name": "ProgressStyleModel",
      "state": {
       "_model_module": "@jupyter-widgets/controls",
       "_model_module_version": "1.5.0",
       "_model_name": "ProgressStyleModel",
       "_view_count": null,
       "_view_module": "@jupyter-widgets/base",
       "_view_module_version": "1.2.0",
       "_view_name": "StyleView",
       "bar_color": null,
       "description_width": ""
      }
     },
     "3343d87a281d4f129aab3afc0867cd40": {
      "model_module": "@jupyter-widgets/controls",
      "model_module_version": "1.5.0",
      "model_name": "FloatProgressModel",
      "state": {
       "_dom_classes": [],
       "_model_module": "@jupyter-widgets/controls",
       "_model_module_version": "1.5.0",
       "_model_name": "FloatProgressModel",
       "_view_count": null,
       "_view_module": "@jupyter-widgets/controls",
       "_view_module_version": "1.5.0",
       "_view_name": "ProgressView",
       "bar_style": "success",
       "description": "",
       "description_tooltip": null,
       "layout": "IPY_MODEL_3b20736f05e14be398c9fe4e42b11110",
       "max": 542923308,
       "min": 0,
       "orientation": "horizontal",
       "style": "IPY_MODEL_3475d4001fb742988dba5e6022a1e6de",
       "value": 542923308
      }
     },
     "3475d4001fb742988dba5e6022a1e6de": {
      "model_module": "@jupyter-widgets/controls",
      "model_module_version": "1.5.0",
      "model_name": "ProgressStyleModel",
      "state": {
       "_model_module": "@jupyter-widgets/controls",
       "_model_module_version": "1.5.0",
       "_model_name": "ProgressStyleModel",
       "_view_count": null,
       "_view_module": "@jupyter-widgets/base",
       "_view_module_version": "1.2.0",
       "_view_name": "StyleView",
       "bar_color": null,
       "description_width": ""
      }
     },
     "3b20736f05e14be398c9fe4e42b11110": {
      "model_module": "@jupyter-widgets/base",
      "model_module_version": "1.2.0",
      "model_name": "LayoutModel",
      "state": {
       "_model_module": "@jupyter-widgets/base",
       "_model_module_version": "1.2.0",
       "_model_name": "LayoutModel",
       "_view_count": null,
       "_view_module": "@jupyter-widgets/base",
       "_view_module_version": "1.2.0",
       "_view_name": "LayoutView",
       "align_content": null,
       "align_items": null,
       "align_self": null,
       "border": null,
       "bottom": null,
       "display": null,
       "flex": null,
       "flex_flow": null,
       "grid_area": null,
       "grid_auto_columns": null,
       "grid_auto_flow": null,
       "grid_auto_rows": null,
       "grid_column": null,
       "grid_gap": null,
       "grid_row": null,
       "grid_template_areas": null,
       "grid_template_columns": null,
       "grid_template_rows": null,
       "height": null,
       "justify_content": null,
       "justify_items": null,
       "left": null,
       "margin": null,
       "max_height": null,
       "max_width": null,
       "min_height": null,
       "min_width": null,
       "object_fit": null,
       "object_position": null,
       "order": null,
       "overflow": null,
       "overflow_x": null,
       "overflow_y": null,
       "padding": null,
       "right": null,
       "top": null,
       "visibility": null,
       "width": null
      }
     },
     "41124c48ad2b40c19295b0b63fd8422c": {
      "model_module": "@jupyter-widgets/base",
      "model_module_version": "1.2.0",
      "model_name": "LayoutModel",
      "state": {
       "_model_module": "@jupyter-widgets/base",
       "_model_module_version": "1.2.0",
       "_model_name": "LayoutModel",
       "_view_count": null,
       "_view_module": "@jupyter-widgets/base",
       "_view_module_version": "1.2.0",
       "_view_name": "LayoutView",
       "align_content": null,
       "align_items": null,
       "align_self": null,
       "border": null,
       "bottom": null,
       "display": null,
       "flex": null,
       "flex_flow": null,
       "grid_area": null,
       "grid_auto_columns": null,
       "grid_auto_flow": null,
       "grid_auto_rows": null,
       "grid_column": null,
       "grid_gap": null,
       "grid_row": null,
       "grid_template_areas": null,
       "grid_template_columns": null,
       "grid_template_rows": null,
       "height": null,
       "justify_content": null,
       "justify_items": null,
       "left": null,
       "margin": null,
       "max_height": null,
       "max_width": null,
       "min_height": null,
       "min_width": null,
       "object_fit": null,
       "object_position": null,
       "order": null,
       "overflow": null,
       "overflow_x": null,
       "overflow_y": null,
       "padding": null,
       "right": null,
       "top": null,
       "visibility": null,
       "width": null
      }
     },
     "426ecc3405ff4d0589491425af83bbcb": {
      "model_module": "@jupyter-widgets/controls",
      "model_module_version": "1.5.0",
      "model_name": "FloatProgressModel",
      "state": {
       "_dom_classes": [],
       "_model_module": "@jupyter-widgets/controls",
       "_model_module_version": "1.5.0",
       "_model_name": "FloatProgressModel",
       "_view_count": null,
       "_view_module": "@jupyter-widgets/controls",
       "_view_module_version": "1.5.0",
       "_view_name": "ProgressView",
       "bar_style": "success",
       "description": "",
       "description_tooltip": null,
       "layout": "IPY_MODEL_a286947abd70449889f3ac87474f733d",
       "max": 1135173,
       "min": 0,
       "orientation": "horizontal",
       "style": "IPY_MODEL_25ddab61105140c2b50747c54b673fa8",
       "value": 1135173
      }
     },
     "45bea8bbc14843328143f331c63fc0c5": {
      "model_module": "@jupyter-widgets/controls",
      "model_module_version": "1.5.0",
      "model_name": "FloatProgressModel",
      "state": {
       "_dom_classes": [],
       "_model_module": "@jupyter-widgets/controls",
       "_model_module_version": "1.5.0",
       "_model_name": "FloatProgressModel",
       "_view_count": null,
       "_view_module": "@jupyter-widgets/controls",
       "_view_module_version": "1.5.0",
       "_view_name": "ProgressView",
       "bar_style": "success",
       "description": "",
       "description_tooltip": null,
       "layout": "IPY_MODEL_4892dc45ea084418933759eccd2b4e67",
       "max": 895321,
       "min": 0,
       "orientation": "horizontal",
       "style": "IPY_MODEL_7f85a59b1a2c41198d274624bb261763",
       "value": 895321
      }
     },
     "4892dc45ea084418933759eccd2b4e67": {
      "model_module": "@jupyter-widgets/base",
      "model_module_version": "1.2.0",
      "model_name": "LayoutModel",
      "state": {
       "_model_module": "@jupyter-widgets/base",
       "_model_module_version": "1.2.0",
       "_model_name": "LayoutModel",
       "_view_count": null,
       "_view_module": "@jupyter-widgets/base",
       "_view_module_version": "1.2.0",
       "_view_name": "LayoutView",
       "align_content": null,
       "align_items": null,
       "align_self": null,
       "border": null,
       "bottom": null,
       "display": null,
       "flex": null,
       "flex_flow": null,
       "grid_area": null,
       "grid_auto_columns": null,
       "grid_auto_flow": null,
       "grid_auto_rows": null,
       "grid_column": null,
       "grid_gap": null,
       "grid_row": null,
       "grid_template_areas": null,
       "grid_template_columns": null,
       "grid_template_rows": null,
       "height": null,
       "justify_content": null,
       "justify_items": null,
       "left": null,
       "margin": null,
       "max_height": null,
       "max_width": null,
       "min_height": null,
       "min_width": null,
       "object_fit": null,
       "object_position": null,
       "order": null,
       "overflow": null,
       "overflow_x": null,
       "overflow_y": null,
       "padding": null,
       "right": null,
       "top": null,
       "visibility": null,
       "width": null
      }
     },
     "4a24450ada4f4dc1bce4a470927ce2d8": {
      "model_module": "@jupyter-widgets/controls",
      "model_module_version": "1.5.0",
      "model_name": "HBoxModel",
      "state": {
       "_dom_classes": [],
       "_model_module": "@jupyter-widgets/controls",
       "_model_module_version": "1.5.0",
       "_model_name": "HBoxModel",
       "_view_count": null,
       "_view_module": "@jupyter-widgets/controls",
       "_view_module_version": "1.5.0",
       "_view_name": "HBoxView",
       "box_style": "",
       "children": [
        "IPY_MODEL_6a4b968d6b9843d38fe64af3887d3cc9",
        "IPY_MODEL_d1d7cdf3da174bf8836a82c212d63a65",
        "IPY_MODEL_f5571a99d5344f689a6fde150b1d65a0"
       ],
       "layout": "IPY_MODEL_e9cb897d7be44db7ad5df6de2922c620"
      }
     },
     "4cd07af2d1f643debf97587032bf9386": {
      "model_module": "@jupyter-widgets/base",
      "model_module_version": "1.2.0",
      "model_name": "LayoutModel",
      "state": {
       "_model_module": "@jupyter-widgets/base",
       "_model_module_version": "1.2.0",
       "_model_name": "LayoutModel",
       "_view_count": null,
       "_view_module": "@jupyter-widgets/base",
       "_view_module_version": "1.2.0",
       "_view_name": "LayoutView",
       "align_content": null,
       "align_items": null,
       "align_self": null,
       "border": null,
       "bottom": null,
       "display": null,
       "flex": null,
       "flex_flow": null,
       "grid_area": null,
       "grid_auto_columns": null,
       "grid_auto_flow": null,
       "grid_auto_rows": null,
       "grid_column": null,
       "grid_gap": null,
       "grid_row": null,
       "grid_template_areas": null,
       "grid_template_columns": null,
       "grid_template_rows": null,
       "height": null,
       "justify_content": null,
       "justify_items": null,
       "left": null,
       "margin": null,
       "max_height": null,
       "max_width": null,
       "min_height": null,
       "min_width": null,
       "object_fit": null,
       "object_position": null,
       "order": null,
       "overflow": null,
       "overflow_x": null,
       "overflow_y": null,
       "padding": null,
       "right": null,
       "top": null,
       "visibility": null,
       "width": null
      }
     },
     "51fd1d2f9a474e0e87d0cc9c9ce17887": {
      "model_module": "@jupyter-widgets/controls",
      "model_module_version": "1.5.0",
      "model_name": "HTMLModel",
      "state": {
       "_dom_classes": [],
       "_model_module": "@jupyter-widgets/controls",
       "_model_module_version": "1.5.0",
       "_model_name": "HTMLModel",
       "_view_count": null,
       "_view_module": "@jupyter-widgets/controls",
       "_view_module_version": "1.5.0",
       "_view_name": "HTMLView",
       "description": "",
       "description_tooltip": null,
       "layout": "IPY_MODEL_763752b8a4264b72b587b02068e68b3c",
       "placeholder": "​",
       "style": "IPY_MODEL_acd9b558d5984b3093f9b0251525281a",
       "value": " 874k/874k [00:01&lt;00:00, 1.18MB/s]"
      }
     },
     "5c9705db6aae400b928ee5cd92328ddb": {
      "model_module": "@jupyter-widgets/controls",
      "model_module_version": "1.5.0",
      "model_name": "ProgressStyleModel",
      "state": {
       "_model_module": "@jupyter-widgets/controls",
       "_model_module_version": "1.5.0",
       "_model_name": "ProgressStyleModel",
       "_view_count": null,
       "_view_module": "@jupyter-widgets/base",
       "_view_module_version": "1.2.0",
       "_view_name": "StyleView",
       "bar_color": null,
       "description_width": ""
      }
     },
     "67351f37c3454a97bfcc88530b1d8ba7": {
      "model_module": "@jupyter-widgets/controls",
      "model_module_version": "1.5.0",
      "model_name": "DescriptionStyleModel",
      "state": {
       "_model_module": "@jupyter-widgets/controls",
       "_model_module_version": "1.5.0",
       "_model_name": "DescriptionStyleModel",
       "_view_count": null,
       "_view_module": "@jupyter-widgets/base",
       "_view_module_version": "1.2.0",
       "_view_name": "StyleView",
       "description_width": ""
      }
     },
     "6a4b968d6b9843d38fe64af3887d3cc9": {
      "model_module": "@jupyter-widgets/controls",
      "model_module_version": "1.5.0",
      "model_name": "HTMLModel",
      "state": {
       "_dom_classes": [],
       "_model_module": "@jupyter-widgets/controls",
       "_model_module_version": "1.5.0",
       "_model_name": "HTMLModel",
       "_view_count": null,
       "_view_module": "@jupyter-widgets/controls",
       "_view_module_version": "1.5.0",
       "_view_name": "HTMLView",
       "description": "",
       "description_tooltip": null,
       "layout": "IPY_MODEL_41124c48ad2b40c19295b0b63fd8422c",
       "placeholder": "​",
       "style": "IPY_MODEL_80b455818462469e8be6f4e41e6365a3",
       "value": "Downloading: 100%"
      }
     },
     "7319d620fefc4681857401092d821aab": {
      "model_module": "@jupyter-widgets/base",
      "model_module_version": "1.2.0",
      "model_name": "LayoutModel",
      "state": {
       "_model_module": "@jupyter-widgets/base",
       "_model_module_version": "1.2.0",
       "_model_name": "LayoutModel",
       "_view_count": null,
       "_view_module": "@jupyter-widgets/base",
       "_view_module_version": "1.2.0",
       "_view_name": "LayoutView",
       "align_content": null,
       "align_items": null,
       "align_self": null,
       "border": null,
       "bottom": null,
       "display": null,
       "flex": null,
       "flex_flow": null,
       "grid_area": null,
       "grid_auto_columns": null,
       "grid_auto_flow": null,
       "grid_auto_rows": null,
       "grid_column": null,
       "grid_gap": null,
       "grid_row": null,
       "grid_template_areas": null,
       "grid_template_columns": null,
       "grid_template_rows": null,
       "height": null,
       "justify_content": null,
       "justify_items": null,
       "left": null,
       "margin": null,
       "max_height": null,
       "max_width": null,
       "min_height": null,
       "min_width": null,
       "object_fit": null,
       "object_position": null,
       "order": null,
       "overflow": null,
       "overflow_x": null,
       "overflow_y": null,
       "padding": null,
       "right": null,
       "top": null,
       "visibility": null,
       "width": null
      }
     },
     "763752b8a4264b72b587b02068e68b3c": {
      "model_module": "@jupyter-widgets/base",
      "model_module_version": "1.2.0",
      "model_name": "LayoutModel",
      "state": {
       "_model_module": "@jupyter-widgets/base",
       "_model_module_version": "1.2.0",
       "_model_name": "LayoutModel",
       "_view_count": null,
       "_view_module": "@jupyter-widgets/base",
       "_view_module_version": "1.2.0",
       "_view_name": "LayoutView",
       "align_content": null,
       "align_items": null,
       "align_self": null,
       "border": null,
       "bottom": null,
       "display": null,
       "flex": null,
       "flex_flow": null,
       "grid_area": null,
       "grid_auto_columns": null,
       "grid_auto_flow": null,
       "grid_auto_rows": null,
       "grid_column": null,
       "grid_gap": null,
       "grid_row": null,
       "grid_template_areas": null,
       "grid_template_columns": null,
       "grid_template_rows": null,
       "height": null,
       "justify_content": null,
       "justify_items": null,
       "left": null,
       "margin": null,
       "max_height": null,
       "max_width": null,
       "min_height": null,
       "min_width": null,
       "object_fit": null,
       "object_position": null,
       "order": null,
       "overflow": null,
       "overflow_x": null,
       "overflow_y": null,
       "padding": null,
       "right": null,
       "top": null,
       "visibility": null,
       "width": null
      }
     },
     "7f5c14fcd96e4b07921d5ca845672380": {
      "model_module": "@jupyter-widgets/base",
      "model_module_version": "1.2.0",
      "model_name": "LayoutModel",
      "state": {
       "_model_module": "@jupyter-widgets/base",
       "_model_module_version": "1.2.0",
       "_model_name": "LayoutModel",
       "_view_count": null,
       "_view_module": "@jupyter-widgets/base",
       "_view_module_version": "1.2.0",
       "_view_name": "LayoutView",
       "align_content": null,
       "align_items": null,
       "align_self": null,
       "border": null,
       "bottom": null,
       "display": null,
       "flex": null,
       "flex_flow": null,
       "grid_area": null,
       "grid_auto_columns": null,
       "grid_auto_flow": null,
       "grid_auto_rows": null,
       "grid_column": null,
       "grid_gap": null,
       "grid_row": null,
       "grid_template_areas": null,
       "grid_template_columns": null,
       "grid_template_rows": null,
       "height": null,
       "justify_content": null,
       "justify_items": null,
       "left": null,
       "margin": null,
       "max_height": null,
       "max_width": null,
       "min_height": null,
       "min_width": null,
       "object_fit": null,
       "object_position": null,
       "order": null,
       "overflow": null,
       "overflow_x": null,
       "overflow_y": null,
       "padding": null,
       "right": null,
       "top": null,
       "visibility": null,
       "width": null
      }
     },
     "7f85a59b1a2c41198d274624bb261763": {
      "model_module": "@jupyter-widgets/controls",
      "model_module_version": "1.5.0",
      "model_name": "ProgressStyleModel",
      "state": {
       "_model_module": "@jupyter-widgets/controls",
       "_model_module_version": "1.5.0",
       "_model_name": "ProgressStyleModel",
       "_view_count": null,
       "_view_module": "@jupyter-widgets/base",
       "_view_module_version": "1.2.0",
       "_view_name": "StyleView",
       "bar_color": null,
       "description_width": ""
      }
     },
     "80b455818462469e8be6f4e41e6365a3": {
      "model_module": "@jupyter-widgets/controls",
      "model_module_version": "1.5.0",
      "model_name": "DescriptionStyleModel",
      "state": {
       "_model_module": "@jupyter-widgets/controls",
       "_model_module_version": "1.5.0",
       "_model_name": "DescriptionStyleModel",
       "_view_count": null,
       "_view_module": "@jupyter-widgets/base",
       "_view_module_version": "1.2.0",
       "_view_name": "StyleView",
       "description_width": ""
      }
     },
     "8231c00a8bee47ef8b21ff7e73e48742": {
      "model_module": "@jupyter-widgets/controls",
      "model_module_version": "1.5.0",
      "model_name": "DescriptionStyleModel",
      "state": {
       "_model_module": "@jupyter-widgets/controls",
       "_model_module_version": "1.5.0",
       "_model_name": "DescriptionStyleModel",
       "_view_count": null,
       "_view_module": "@jupyter-widgets/base",
       "_view_module_version": "1.2.0",
       "_view_name": "StyleView",
       "description_width": ""
      }
     },
     "8308d171894e4c17bf9a644d0b6fb36a": {
      "model_module": "@jupyter-widgets/base",
      "model_module_version": "1.2.0",
      "model_name": "LayoutModel",
      "state": {
       "_model_module": "@jupyter-widgets/base",
       "_model_module_version": "1.2.0",
       "_model_name": "LayoutModel",
       "_view_count": null,
       "_view_module": "@jupyter-widgets/base",
       "_view_module_version": "1.2.0",
       "_view_name": "LayoutView",
       "align_content": null,
       "align_items": null,
       "align_self": null,
       "border": null,
       "bottom": null,
       "display": null,
       "flex": null,
       "flex_flow": null,
       "grid_area": null,
       "grid_auto_columns": null,
       "grid_auto_flow": null,
       "grid_auto_rows": null,
       "grid_column": null,
       "grid_gap": null,
       "grid_row": null,
       "grid_template_areas": null,
       "grid_template_columns": null,
       "grid_template_rows": null,
       "height": null,
       "justify_content": null,
       "justify_items": null,
       "left": null,
       "margin": null,
       "max_height": null,
       "max_width": null,
       "min_height": null,
       "min_width": null,
       "object_fit": null,
       "object_position": null,
       "order": null,
       "overflow": null,
       "overflow_x": null,
       "overflow_y": null,
       "padding": null,
       "right": null,
       "top": null,
       "visibility": null,
       "width": null
      }
     },
     "8c84b14c87324e40adfb598037d8d232": {
      "model_module": "@jupyter-widgets/base",
      "model_module_version": "1.2.0",
      "model_name": "LayoutModel",
      "state": {
       "_model_module": "@jupyter-widgets/base",
       "_model_module_version": "1.2.0",
       "_model_name": "LayoutModel",
       "_view_count": null,
       "_view_module": "@jupyter-widgets/base",
       "_view_module_version": "1.2.0",
       "_view_name": "LayoutView",
       "align_content": null,
       "align_items": null,
       "align_self": null,
       "border": null,
       "bottom": null,
       "display": null,
       "flex": null,
       "flex_flow": null,
       "grid_area": null,
       "grid_auto_columns": null,
       "grid_auto_flow": null,
       "grid_auto_rows": null,
       "grid_column": null,
       "grid_gap": null,
       "grid_row": null,
       "grid_template_areas": null,
       "grid_template_columns": null,
       "grid_template_rows": null,
       "height": null,
       "justify_content": null,
       "justify_items": null,
       "left": null,
       "margin": null,
       "max_height": null,
       "max_width": null,
       "min_height": null,
       "min_width": null,
       "object_fit": null,
       "object_position": null,
       "order": null,
       "overflow": null,
       "overflow_x": null,
       "overflow_y": null,
       "padding": null,
       "right": null,
       "top": null,
       "visibility": null,
       "width": null
      }
     },
     "90c3dbc89bcb462db8fb910a5fd735bd": {
      "model_module": "@jupyter-widgets/base",
      "model_module_version": "1.2.0",
      "model_name": "LayoutModel",
      "state": {
       "_model_module": "@jupyter-widgets/base",
       "_model_module_version": "1.2.0",
       "_model_name": "LayoutModel",
       "_view_count": null,
       "_view_module": "@jupyter-widgets/base",
       "_view_module_version": "1.2.0",
       "_view_name": "LayoutView",
       "align_content": null,
       "align_items": null,
       "align_self": null,
       "border": null,
       "bottom": null,
       "display": null,
       "flex": null,
       "flex_flow": null,
       "grid_area": null,
       "grid_auto_columns": null,
       "grid_auto_flow": null,
       "grid_auto_rows": null,
       "grid_column": null,
       "grid_gap": null,
       "grid_row": null,
       "grid_template_areas": null,
       "grid_template_columns": null,
       "grid_template_rows": null,
       "height": null,
       "justify_content": null,
       "justify_items": null,
       "left": null,
       "margin": null,
       "max_height": null,
       "max_width": null,
       "min_height": null,
       "min_width": null,
       "object_fit": null,
       "object_position": null,
       "order": null,
       "overflow": null,
       "overflow_x": null,
       "overflow_y": null,
       "padding": null,
       "right": null,
       "top": null,
       "visibility": null,
       "width": null
      }
     },
     "96050510def64312be5db2b4829b8a46": {
      "model_module": "@jupyter-widgets/base",
      "model_module_version": "1.2.0",
      "model_name": "LayoutModel",
      "state": {
       "_model_module": "@jupyter-widgets/base",
       "_model_module_version": "1.2.0",
       "_model_name": "LayoutModel",
       "_view_count": null,
       "_view_module": "@jupyter-widgets/base",
       "_view_module_version": "1.2.0",
       "_view_name": "LayoutView",
       "align_content": null,
       "align_items": null,
       "align_self": null,
       "border": null,
       "bottom": null,
       "display": null,
       "flex": null,
       "flex_flow": null,
       "grid_area": null,
       "grid_auto_columns": null,
       "grid_auto_flow": null,
       "grid_auto_rows": null,
       "grid_column": null,
       "grid_gap": null,
       "grid_row": null,
       "grid_template_areas": null,
       "grid_template_columns": null,
       "grid_template_rows": null,
       "height": null,
       "justify_content": null,
       "justify_items": null,
       "left": null,
       "margin": null,
       "max_height": null,
       "max_width": null,
       "min_height": null,
       "min_width": null,
       "object_fit": null,
       "object_position": null,
       "order": null,
       "overflow": null,
       "overflow_x": null,
       "overflow_y": null,
       "padding": null,
       "right": null,
       "top": null,
       "visibility": null,
       "width": null
      }
     },
     "a286947abd70449889f3ac87474f733d": {
      "model_module": "@jupyter-widgets/base",
      "model_module_version": "1.2.0",
      "model_name": "LayoutModel",
      "state": {
       "_model_module": "@jupyter-widgets/base",
       "_model_module_version": "1.2.0",
       "_model_name": "LayoutModel",
       "_view_count": null,
       "_view_module": "@jupyter-widgets/base",
       "_view_module_version": "1.2.0",
       "_view_name": "LayoutView",
       "align_content": null,
       "align_items": null,
       "align_self": null,
       "border": null,
       "bottom": null,
       "display": null,
       "flex": null,
       "flex_flow": null,
       "grid_area": null,
       "grid_auto_columns": null,
       "grid_auto_flow": null,
       "grid_auto_rows": null,
       "grid_column": null,
       "grid_gap": null,
       "grid_row": null,
       "grid_template_areas": null,
       "grid_template_columns": null,
       "grid_template_rows": null,
       "height": null,
       "justify_content": null,
       "justify_items": null,
       "left": null,
       "margin": null,
       "max_height": null,
       "max_width": null,
       "min_height": null,
       "min_width": null,
       "object_fit": null,
       "object_position": null,
       "order": null,
       "overflow": null,
       "overflow_x": null,
       "overflow_y": null,
       "padding": null,
       "right": null,
       "top": null,
       "visibility": null,
       "width": null
      }
     },
     "a690543dae7a4b07b6bb6dbe9e6baa69": {
      "model_module": "@jupyter-widgets/controls",
      "model_module_version": "1.5.0",
      "model_name": "HTMLModel",
      "state": {
       "_dom_classes": [],
       "_model_module": "@jupyter-widgets/controls",
       "_model_module_version": "1.5.0",
       "_model_name": "HTMLModel",
       "_view_count": null,
       "_view_module": "@jupyter-widgets/controls",
       "_view_module_version": "1.5.0",
       "_view_name": "HTMLView",
       "description": "",
       "description_tooltip": null,
       "layout": "IPY_MODEL_22895a3191ea4d86930fc5b83ca442e9",
       "placeholder": "​",
       "style": "IPY_MODEL_8231c00a8bee47ef8b21ff7e73e48742",
       "value": "Downloading: 100%"
      }
     },
     "ab5b99470c6b4033a28fe23b01481f30": {
      "model_module": "@jupyter-widgets/controls",
      "model_module_version": "1.5.0",
      "model_name": "HTMLModel",
      "state": {
       "_dom_classes": [],
       "_model_module": "@jupyter-widgets/controls",
       "_model_module_version": "1.5.0",
       "_model_name": "HTMLModel",
       "_view_count": null,
       "_view_module": "@jupyter-widgets/controls",
       "_view_module_version": "1.5.0",
       "_view_name": "HTMLView",
       "description": "",
       "description_tooltip": null,
       "layout": "IPY_MODEL_4cd07af2d1f643debf97587032bf9386",
       "placeholder": "​",
       "style": "IPY_MODEL_16ec9fd70e234dd3a850e47fae624501",
       "value": " 1.08M/1.08M [00:01&lt;00:00, 1.23MB/s]"
      }
     },
     "acd9b558d5984b3093f9b0251525281a": {
      "model_module": "@jupyter-widgets/controls",
      "model_module_version": "1.5.0",
      "model_name": "DescriptionStyleModel",
      "state": {
       "_model_module": "@jupyter-widgets/controls",
       "_model_module_version": "1.5.0",
       "_model_name": "DescriptionStyleModel",
       "_view_count": null,
       "_view_module": "@jupyter-widgets/base",
       "_view_module_version": "1.2.0",
       "_view_name": "StyleView",
       "description_width": ""
      }
     },
     "b5ded7225d524df58f6c8296af66eed6": {
      "model_module": "@jupyter-widgets/controls",
      "model_module_version": "1.5.0",
      "model_name": "DescriptionStyleModel",
      "state": {
       "_model_module": "@jupyter-widgets/controls",
       "_model_module_version": "1.5.0",
       "_model_name": "DescriptionStyleModel",
       "_view_count": null,
       "_view_module": "@jupyter-widgets/base",
       "_view_module_version": "1.2.0",
       "_view_name": "StyleView",
       "description_width": ""
      }
     },
     "bf552b2de2414c2cb17528a369a1ca90": {
      "model_module": "@jupyter-widgets/controls",
      "model_module_version": "1.5.0",
      "model_name": "HTMLModel",
      "state": {
       "_dom_classes": [],
       "_model_module": "@jupyter-widgets/controls",
       "_model_module_version": "1.5.0",
       "_model_name": "HTMLModel",
       "_view_count": null,
       "_view_module": "@jupyter-widgets/controls",
       "_view_module_version": "1.5.0",
       "_view_name": "HTMLView",
       "description": "",
       "description_tooltip": null,
       "layout": "IPY_MODEL_eceb4367f8b74c28aa629f9e932a0c73",
       "placeholder": "​",
       "style": "IPY_MODEL_b5ded7225d524df58f6c8296af66eed6",
       "value": " 518M/518M [00:35&lt;00:00, 15.8MB/s]"
      }
     },
     "c25323f1254143c1a292efab5c91c28d": {
      "model_module": "@jupyter-widgets/controls",
      "model_module_version": "1.5.0",
      "model_name": "HBoxModel",
      "state": {
       "_dom_classes": [],
       "_model_module": "@jupyter-widgets/controls",
       "_model_module_version": "1.5.0",
       "_model_name": "HBoxModel",
       "_view_count": null,
       "_view_module": "@jupyter-widgets/controls",
       "_view_module_version": "1.5.0",
       "_view_name": "HBoxView",
       "box_style": "",
       "children": [
        "IPY_MODEL_dbe24f1b767845c49863018a80ad0796",
        "IPY_MODEL_45bea8bbc14843328143f331c63fc0c5",
        "IPY_MODEL_51fd1d2f9a474e0e87d0cc9c9ce17887"
       ],
       "layout": "IPY_MODEL_96050510def64312be5db2b4829b8a46"
      }
     },
     "d1d7cdf3da174bf8836a82c212d63a65": {
      "model_module": "@jupyter-widgets/controls",
      "model_module_version": "1.5.0",
      "model_name": "FloatProgressModel",
      "state": {
       "_dom_classes": [],
       "_model_module": "@jupyter-widgets/controls",
       "_model_module_version": "1.5.0",
       "_model_name": "FloatProgressModel",
       "_view_count": null,
       "_view_module": "@jupyter-widgets/controls",
       "_view_module_version": "1.5.0",
       "_view_name": "ProgressView",
       "bar_style": "success",
       "description": "",
       "description_tooltip": null,
       "layout": "IPY_MODEL_7319d620fefc4681857401092d821aab",
       "max": 557,
       "min": 0,
       "orientation": "horizontal",
       "style": "IPY_MODEL_5c9705db6aae400b928ee5cd92328ddb",
       "value": 557
      }
     },
     "dbe24f1b767845c49863018a80ad0796": {
      "model_module": "@jupyter-widgets/controls",
      "model_module_version": "1.5.0",
      "model_name": "HTMLModel",
      "state": {
       "_dom_classes": [],
       "_model_module": "@jupyter-widgets/controls",
       "_model_module_version": "1.5.0",
       "_model_name": "HTMLModel",
       "_view_count": null,
       "_view_module": "@jupyter-widgets/controls",
       "_view_module_version": "1.5.0",
       "_view_name": "HTMLView",
       "description": "",
       "description_tooltip": null,
       "layout": "IPY_MODEL_8c84b14c87324e40adfb598037d8d232",
       "placeholder": "​",
       "style": "IPY_MODEL_0a282b59b2114ae095be29771b2b8f85",
       "value": "Downloading: 100%"
      }
     },
     "e9cb897d7be44db7ad5df6de2922c620": {
      "model_module": "@jupyter-widgets/base",
      "model_module_version": "1.2.0",
      "model_name": "LayoutModel",
      "state": {
       "_model_module": "@jupyter-widgets/base",
       "_model_module_version": "1.2.0",
       "_model_name": "LayoutModel",
       "_view_count": null,
       "_view_module": "@jupyter-widgets/base",
       "_view_module_version": "1.2.0",
       "_view_name": "LayoutView",
       "align_content": null,
       "align_items": null,
       "align_self": null,
       "border": null,
       "bottom": null,
       "display": null,
       "flex": null,
       "flex_flow": null,
       "grid_area": null,
       "grid_auto_columns": null,
       "grid_auto_flow": null,
       "grid_auto_rows": null,
       "grid_column": null,
       "grid_gap": null,
       "grid_row": null,
       "grid_template_areas": null,
       "grid_template_columns": null,
       "grid_template_rows": null,
       "height": null,
       "justify_content": null,
       "justify_items": null,
       "left": null,
       "margin": null,
       "max_height": null,
       "max_width": null,
       "min_height": null,
       "min_width": null,
       "object_fit": null,
       "object_position": null,
       "order": null,
       "overflow": null,
       "overflow_x": null,
       "overflow_y": null,
       "padding": null,
       "right": null,
       "top": null,
       "visibility": null,
       "width": null
      }
     },
     "eb36ae3348b8464cb5d87b4004a0698f": {
      "model_module": "@jupyter-widgets/controls",
      "model_module_version": "1.5.0",
      "model_name": "HTMLModel",
      "state": {
       "_dom_classes": [],
       "_model_module": "@jupyter-widgets/controls",
       "_model_module_version": "1.5.0",
       "_model_name": "HTMLModel",
       "_view_count": null,
       "_view_module": "@jupyter-widgets/controls",
       "_view_module_version": "1.5.0",
       "_view_name": "HTMLView",
       "description": "",
       "description_tooltip": null,
       "layout": "IPY_MODEL_8308d171894e4c17bf9a644d0b6fb36a",
       "placeholder": "​",
       "style": "IPY_MODEL_67351f37c3454a97bfcc88530b1d8ba7",
       "value": "Downloading: 100%"
      }
     },
     "eceb4367f8b74c28aa629f9e932a0c73": {
      "model_module": "@jupyter-widgets/base",
      "model_module_version": "1.2.0",
      "model_name": "LayoutModel",
      "state": {
       "_model_module": "@jupyter-widgets/base",
       "_model_module_version": "1.2.0",
       "_model_name": "LayoutModel",
       "_view_count": null,
       "_view_module": "@jupyter-widgets/base",
       "_view_module_version": "1.2.0",
       "_view_name": "LayoutView",
       "align_content": null,
       "align_items": null,
       "align_self": null,
       "border": null,
       "bottom": null,
       "display": null,
       "flex": null,
       "flex_flow": null,
       "grid_area": null,
       "grid_auto_columns": null,
       "grid_auto_flow": null,
       "grid_auto_rows": null,
       "grid_column": null,
       "grid_gap": null,
       "grid_row": null,
       "grid_template_areas": null,
       "grid_template_columns": null,
       "grid_template_rows": null,
       "height": null,
       "justify_content": null,
       "justify_items": null,
       "left": null,
       "margin": null,
       "max_height": null,
       "max_width": null,
       "min_height": null,
       "min_width": null,
       "object_fit": null,
       "object_position": null,
       "order": null,
       "overflow": null,
       "overflow_x": null,
       "overflow_y": null,
       "padding": null,
       "right": null,
       "top": null,
       "visibility": null,
       "width": null
      }
     },
     "f5571a99d5344f689a6fde150b1d65a0": {
      "model_module": "@jupyter-widgets/controls",
      "model_module_version": "1.5.0",
      "model_name": "HTMLModel",
      "state": {
       "_dom_classes": [],
       "_model_module": "@jupyter-widgets/controls",
       "_model_module_version": "1.5.0",
       "_model_name": "HTMLModel",
       "_view_count": null,
       "_view_module": "@jupyter-widgets/controls",
       "_view_module_version": "1.5.0",
       "_view_name": "HTMLView",
       "description": "",
       "description_tooltip": null,
       "layout": "IPY_MODEL_90c3dbc89bcb462db8fb910a5fd735bd",
       "placeholder": "​",
       "style": "IPY_MODEL_1d57333269b24c3bafe8ff1cd288c253",
       "value": " 557/557 [00:00&lt;00:00, 21.4kB/s]"
      }
     },
     "f77851b6f1094608aa31936c85f7e23a": {
      "model_module": "@jupyter-widgets/controls",
      "model_module_version": "1.5.0",
      "model_name": "HBoxModel",
      "state": {
       "_dom_classes": [],
       "_model_module": "@jupyter-widgets/controls",
       "_model_module_version": "1.5.0",
       "_model_name": "HBoxModel",
       "_view_count": null,
       "_view_module": "@jupyter-widgets/controls",
       "_view_module_version": "1.5.0",
       "_view_name": "HBoxView",
       "box_style": "",
       "children": [
        "IPY_MODEL_a690543dae7a4b07b6bb6dbe9e6baa69",
        "IPY_MODEL_3343d87a281d4f129aab3afc0867cd40",
        "IPY_MODEL_bf552b2de2414c2cb17528a369a1ca90"
       ],
       "layout": "IPY_MODEL_7f5c14fcd96e4b07921d5ca845672380"
      }
     },
     "fbe918b082ea43c58b4f90e01c1cfd76": {
      "model_module": "@jupyter-widgets/controls",
      "model_module_version": "1.5.0",
      "model_name": "HBoxModel",
      "state": {
       "_dom_classes": [],
       "_model_module": "@jupyter-widgets/controls",
       "_model_module_version": "1.5.0",
       "_model_name": "HBoxModel",
       "_view_count": null,
       "_view_module": "@jupyter-widgets/controls",
       "_view_module_version": "1.5.0",
       "_view_name": "HBoxView",
       "box_style": "",
       "children": [
        "IPY_MODEL_eb36ae3348b8464cb5d87b4004a0698f",
        "IPY_MODEL_426ecc3405ff4d0589491425af83bbcb",
        "IPY_MODEL_ab5b99470c6b4033a28fe23b01481f30"
       ],
       "layout": "IPY_MODEL_1b3f047d91734d20aa4f021ae86a2c97"
      }
     }
    },
    "version_major": 2,
    "version_minor": 0
   }
  }
 },
 "nbformat": 4,
 "nbformat_minor": 5
}
